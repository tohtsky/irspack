{
 "cells": [
  {
   "cell_type": "markdown",
   "id": "9f530e19",
   "metadata": {},
   "source": [
    "# Sampled item evaluation protocol\n",
    "\n",
    "This notebook aims to reproduce the result for ML1M & Pinterest in the paper [\"Revisiting the Performance of iALS on Item Recommendation Benchmarks\"](https://arxiv.org/abs/2110.14037). On these two datasets, for each user, we try to rank 1 held-out positive (actually touched by the user) item over 100 randomly selected negative (untouched) items.\n",
    "\n",
    "Since the protocol is widely used for recsys benchmarking after the [NeuMF paper](https://arxiv.org/abs/1708.05031), below we see how we can measure the recommenders' performance following it. Note, however, there is [a study](https://dl.acm.org/doi/10.1145/3394486.3403226) which asserts that this ranking metric may not be a good indicator for recommender performance."
   ]
  },
  {
   "cell_type": "code",
   "execution_count": 1,
   "id": "ad493486-f40f-4403-bf28-96320374f53c",
   "metadata": {},
   "outputs": [],
   "source": [
    "from irspack import Evaluator, IALSRecommender, IALSOptimizer, df_to_sparse, split_last_n_interaction_df\n",
    "from irspack.dataset.neu_mf import NeuMFML1MDownloader, NeuMFMPinterestDownloader\n",
    "import numpy as np\n",
    "import pandas as pd\n",
    "\n",
    "\n",
    "# Either ml-1m or pinterest\n",
    "DATA_TYPE = 'ml-1m'\n",
    "assert DATA_TYPE in ['ml-1m', 'pinterest']\n",
    "\n",
    "USER = 'user_id'\n",
    "ITEM = 'item_id'\n",
    "TIME = 'timestamp'\n",
    "\n",
    "if DATA_TYPE == 'ml-1m':\n",
    "    dm = NeuMFML1MDownloader()\n",
    "else:\n",
    "    dm = NeuMFMPinterestDownloader()"
   ]
  },
  {
   "cell_type": "markdown",
   "id": "996da3fb",
   "metadata": {},
   "source": [
    "## Read the train & test dataset\n",
    "\n",
    "The train set is a usual user/item interaction dataframe."
   ]
  },
  {
   "cell_type": "code",
   "execution_count": 2,
   "id": "146c9ec5-d90e-4c95-970c-4c3efc373733",
   "metadata": {},
   "outputs": [
    {
     "data": {
      "text/html": [
       "<div>\n",
       "<style scoped>\n",
       "    .dataframe tbody tr th:only-of-type {\n",
       "        vertical-align: middle;\n",
       "    }\n",
       "\n",
       "    .dataframe tbody tr th {\n",
       "        vertical-align: top;\n",
       "    }\n",
       "\n",
       "    .dataframe thead th {\n",
       "        text-align: right;\n",
       "    }\n",
       "</style>\n",
       "<table border=\"1\" class=\"dataframe\">\n",
       "  <thead>\n",
       "    <tr style=\"text-align: right;\">\n",
       "      <th></th>\n",
       "      <th>user_id</th>\n",
       "      <th>item_id</th>\n",
       "      <th>rating</th>\n",
       "      <th>timestamp</th>\n",
       "    </tr>\n",
       "  </thead>\n",
       "  <tbody>\n",
       "    <tr>\n",
       "      <th>0</th>\n",
       "      <td>0</td>\n",
       "      <td>32</td>\n",
       "      <td>4</td>\n",
       "      <td>2001-01-06 23:38:50</td>\n",
       "    </tr>\n",
       "    <tr>\n",
       "      <th>1</th>\n",
       "      <td>0</td>\n",
       "      <td>34</td>\n",
       "      <td>4</td>\n",
       "      <td>2001-01-06 23:38:50</td>\n",
       "    </tr>\n",
       "    <tr>\n",
       "      <th>2</th>\n",
       "      <td>0</td>\n",
       "      <td>4</td>\n",
       "      <td>5</td>\n",
       "      <td>2001-01-06 23:38:11</td>\n",
       "    </tr>\n",
       "    <tr>\n",
       "      <th>3</th>\n",
       "      <td>0</td>\n",
       "      <td>35</td>\n",
       "      <td>4</td>\n",
       "      <td>2001-01-06 23:38:11</td>\n",
       "    </tr>\n",
       "    <tr>\n",
       "      <th>4</th>\n",
       "      <td>0</td>\n",
       "      <td>30</td>\n",
       "      <td>4</td>\n",
       "      <td>2001-01-06 23:38:11</td>\n",
       "    </tr>\n",
       "  </tbody>\n",
       "</table>\n",
       "</div>"
      ],
      "text/plain": [
       "   user_id  item_id  rating           timestamp\n",
       "0        0       32       4 2001-01-06 23:38:50\n",
       "1        0       34       4 2001-01-06 23:38:50\n",
       "2        0        4       5 2001-01-06 23:38:11\n",
       "3        0       35       4 2001-01-06 23:38:11\n",
       "4        0       30       4 2001-01-06 23:38:11"
      ]
     },
     "execution_count": 2,
     "metadata": {},
     "output_type": "execute_result"
    }
   ],
   "source": [
    "train, test = dm.read_train_test()\n",
    "train.head()"
   ]
  },
  {
   "cell_type": "code",
   "execution_count": 3,
   "id": "a1525773",
   "metadata": {},
   "outputs": [],
   "source": [
    "item_list = sorted(list(set(train['item_id'])))\n",
    "item_set = set(item_list)"
   ]
  },
  {
   "cell_type": "markdown",
   "id": "3a9d42d6",
   "metadata": {},
   "source": [
    "## Create validation data\n",
    "\n",
    "Split `train` into train (`tt`) & validation (`tv`) pair.\n",
    "\n",
    "The validation data is created in the same way as the test set."
   ]
  },
  {
   "cell_type": "code",
   "execution_count": 4,
   "id": "3038367a-af71-40e0-86ff-f797b8fd838e",
   "metadata": {},
   "outputs": [],
   "source": [
    "g=train.groupby('user_id')['item_id']\n",
    "user_id_vs_interacted_items = g.agg(set).to_dict()\n",
    "\n",
    "rng = np.random.default_rng(0)\n",
    "\n",
    "# tv is users' last interaction with item.\n",
    "tt, tv = split_last_n_interaction_df(train, USER, timestamp_column=TIME, n_heldout=1)\n",
    "tv['positive'] = True\n",
    "dfs = []\n",
    "for user_id in tv[USER]:\n",
    "    items_not_interacted = list(item_set - user_id_vs_interacted_items[user_id])\n",
    "    negatives = rng.choice(items_not_interacted, size=100, replace=False)\n",
    "    dfs.append(pd.DataFrame({USER: user_id, ITEM: negatives}))\n",
    "valid = pd.concat(dfs)\n",
    "valid['positive'] = False\n",
    "valid = pd.concat([valid, tv[[USER, ITEM, 'positive']]]).sort_values([USER, 'positive'])"
   ]
  },
  {
   "cell_type": "markdown",
   "id": "299af34b",
   "metadata": {},
   "source": [
    "The validation dataframe has an extra column to indicate the positivity of the pair."
   ]
  },
  {
   "cell_type": "code",
   "execution_count": 5,
   "id": "c5b60908",
   "metadata": {},
   "outputs": [
    {
     "data": {
      "text/html": [
       "<div>\n",
       "<style scoped>\n",
       "    .dataframe tbody tr th:only-of-type {\n",
       "        vertical-align: middle;\n",
       "    }\n",
       "\n",
       "    .dataframe tbody tr th {\n",
       "        vertical-align: top;\n",
       "    }\n",
       "\n",
       "    .dataframe thead th {\n",
       "        text-align: right;\n",
       "    }\n",
       "</style>\n",
       "<table border=\"1\" class=\"dataframe\">\n",
       "  <thead>\n",
       "    <tr style=\"text-align: right;\">\n",
       "      <th></th>\n",
       "      <th>user_id</th>\n",
       "      <th>item_id</th>\n",
       "      <th>positive</th>\n",
       "    </tr>\n",
       "  </thead>\n",
       "  <tbody>\n",
       "    <tr>\n",
       "      <th>0</th>\n",
       "      <td>0</td>\n",
       "      <td>1014</td>\n",
       "      <td>False</td>\n",
       "    </tr>\n",
       "    <tr>\n",
       "      <th>1</th>\n",
       "      <td>0</td>\n",
       "      <td>131</td>\n",
       "      <td>False</td>\n",
       "    </tr>\n",
       "    <tr>\n",
       "      <th>2</th>\n",
       "      <td>0</td>\n",
       "      <td>1281</td>\n",
       "      <td>False</td>\n",
       "    </tr>\n",
       "    <tr>\n",
       "      <th>3</th>\n",
       "      <td>0</td>\n",
       "      <td>2669</td>\n",
       "      <td>False</td>\n",
       "    </tr>\n",
       "    <tr>\n",
       "      <th>4</th>\n",
       "      <td>0</td>\n",
       "      <td>372</td>\n",
       "      <td>False</td>\n",
       "    </tr>\n",
       "  </tbody>\n",
       "</table>\n",
       "</div>"
      ],
      "text/plain": [
       "   user_id  item_id  positive\n",
       "0        0     1014     False\n",
       "1        0      131     False\n",
       "2        0     1281     False\n",
       "3        0     2669     False\n",
       "4        0      372     False"
      ]
     },
     "execution_count": 5,
     "metadata": {},
     "output_type": "execute_result"
    }
   ],
   "source": [
    "valid.head()"
   ]
  },
  {
   "cell_type": "markdown",
   "id": "4a67d2de",
   "metadata": {},
   "source": [
    "Let us convert the data frame into sparse matrix."
   ]
  },
  {
   "cell_type": "code",
   "execution_count": 6,
   "id": "d54b3cd3-fc99-4b20-b7c2-e7e0f51d32ad",
   "metadata": {},
   "outputs": [],
   "source": [
    "X_tt, tt_users, _ = df_to_sparse(tt, USER, ITEM, item_ids=item_list)\n",
    "X_tv_gt, _, __ = df_to_sparse(valid[valid['positive']], USER, ITEM, user_ids=tt_users, item_ids=item_list)\n",
    "X_tv_recommendable, _, __ = df_to_sparse(valid, USER, ITEM, user_ids=tt_users, item_ids=item_list)"
   ]
  },
  {
   "cell_type": "markdown",
   "id": "fe215b64",
   "metadata": {},
   "source": [
    "\n",
    "- Non-zeroes in `X_truth` indicate the positive pair location.\n",
    "- Non-zeroes in `X_recommendable` are positive & randomly seledted negative pairs.\n",
    "\n",
    "In the parameter tuning procedure, I found that too eary start of pruning harms the final quality of recommendation.\n",
    "We can control the parameters of pruning by explicitly providing `optuna.Study`."
   ]
  },
  {
   "cell_type": "code",
   "execution_count": 7,
   "id": "49988a11-5657-4c71-8ff5-eeeda2a90fc5",
   "metadata": {},
   "outputs": [
    {
     "name": "stderr",
     "output_type": "stream",
     "text": [
      "\u001b[32m[IRSPACK:I 2022-06-18 08:22:32,738]\u001b[0m \u001b[34mConfig 30 obtained the following scores: {'appeared_item': 2737.0, 'entropy': 7.388188803893926, 'gini_index': 0.672751231888204, 'hit': 0.741225165562914, 'map': 0.36230158730158746, 'n_items': 3704.0, 'ndcg': 0.45201342424819135, 'precision': 0.07412251655629137, 'recall': 0.741225165562914, 'total_user': 6040.0, 'valid_user': 6040.0} within 2.528101 seconds.\u001b[0m\n",
      "\u001b[32m[I 2022-06-18 08:22:32,739]\u001b[0m Trial 30 finished with value: -0.45201342424819135 and parameters: {'alpha0': 0.06550696205925911, 'reg': 0.008018740558286335}. Best is trial 29 with value: -0.45715350596349286.\u001b[0m\n",
      "\u001b[32m[IRSPACK:I 2022-06-18 08:22:32,748]\u001b[0m \u001b[34mTrial 31:\u001b[0m\n",
      "\u001b[32m[IRSPACK:I 2022-06-18 08:22:32,749]\u001b[0m \u001b[34mparameter = {'alpha0': 0.11161354265163098, 'reg': 0.002921810545550655, 'n_components': 192}\u001b[0m\n"
     ]
    },
    {
     "data": {
      "text/html": [
       "\n",
       "<style>\n",
       "    /* Turns off some styling */\n",
       "    progress {\n",
       "        /* gets rid of default border in Firefox and Opera. */\n",
       "        border: none;\n",
       "        /* Needs to be in here for Safari polyfill so background images work as expected. */\n",
       "        background-size: auto;\n",
       "    }\n",
       "    .progress-bar-interrupted, .progress-bar-interrupted::-webkit-progress-bar {\n",
       "        background: #F44336;\n",
       "    }\n",
       "</style>\n"
      ],
      "text/plain": [
       "<IPython.core.display.HTML object>"
      ]
     },
     "metadata": {},
     "output_type": "display_data"
    },
    {
     "data": {
      "text/html": [
       "\n",
       "    <div>\n",
       "      <progress value='4' class='' max='16' style='width:300px; height:20px; vertical-align: middle;'></progress>\n",
       "      25.00% [4/16 00:00<00:02 ndcg@10=0.43231340527486944]\n",
       "    </div>\n",
       "    "
      ],
      "text/plain": [
       "<IPython.core.display.HTML object>"
      ]
     },
     "metadata": {},
     "output_type": "display_data"
    },
    {
     "name": "stderr",
     "output_type": "stream",
     "text": [
      "\u001b[32m[I 2022-06-18 08:22:33,870]\u001b[0m Trial 31 pruned. \u001b[0m\n",
      "\u001b[32m[IRSPACK:I 2022-06-18 08:22:33,879]\u001b[0m \u001b[34mTrial 32:\u001b[0m\n",
      "\u001b[32m[IRSPACK:I 2022-06-18 08:22:33,880]\u001b[0m \u001b[34mparameter = {'alpha0': 0.1815237716363487, 'reg': 0.005541874501225793, 'n_components': 192}\u001b[0m\n"
     ]
    },
    {
     "data": {
      "text/html": [
       "\n",
       "<style>\n",
       "    /* Turns off some styling */\n",
       "    progress {\n",
       "        /* gets rid of default border in Firefox and Opera. */\n",
       "        border: none;\n",
       "        /* Needs to be in here for Safari polyfill so background images work as expected. */\n",
       "        background-size: auto;\n",
       "    }\n",
       "    .progress-bar-interrupted, .progress-bar-interrupted::-webkit-progress-bar {\n",
       "        background: #F44336;\n",
       "    }\n",
       "</style>\n"
      ],
      "text/plain": [
       "<IPython.core.display.HTML object>"
      ]
     },
     "metadata": {},
     "output_type": "display_data"
    },
    {
     "data": {
      "text/html": [
       "\n",
       "    <div>\n",
       "      <progress value='0' class='' max='16' style='width:300px; height:20px; vertical-align: middle;'></progress>\n",
       "      0.00% [0/16 00:00<00:00]\n",
       "    </div>\n",
       "    "
      ],
      "text/plain": [
       "<IPython.core.display.HTML object>"
      ]
     },
     "metadata": {},
     "output_type": "display_data"
    },
    {
     "name": "stderr",
     "output_type": "stream",
     "text": [
      "\u001b[32m[I 2022-06-18 08:22:34,150]\u001b[0m Trial 32 pruned. \u001b[0m\n",
      "\u001b[32m[IRSPACK:I 2022-06-18 08:22:34,158]\u001b[0m \u001b[34mTrial 33:\u001b[0m\n",
      "\u001b[32m[IRSPACK:I 2022-06-18 08:22:34,159]\u001b[0m \u001b[34mparameter = {'alpha0': 0.09433547150366324, 'reg': 0.023452818918026867, 'n_components': 192}\u001b[0m\n"
     ]
    },
    {
     "data": {
      "text/html": [
       "\n",
       "<style>\n",
       "    /* Turns off some styling */\n",
       "    progress {\n",
       "        /* gets rid of default border in Firefox and Opera. */\n",
       "        border: none;\n",
       "        /* Needs to be in here for Safari polyfill so background images work as expected. */\n",
       "        background-size: auto;\n",
       "    }\n",
       "    .progress-bar-interrupted, .progress-bar-interrupted::-webkit-progress-bar {\n",
       "        background: #F44336;\n",
       "    }\n",
       "</style>\n"
      ],
      "text/plain": [
       "<IPython.core.display.HTML object>"
      ]
     },
     "metadata": {},
     "output_type": "display_data"
    },
    {
     "data": {
      "text/html": [
       "\n",
       "    <div>\n",
       "      <progress value='0' class='' max='16' style='width:300px; height:20px; vertical-align: middle;'></progress>\n",
       "      0.00% [0/16 00:00<00:00]\n",
       "    </div>\n",
       "    "
      ],
      "text/plain": [
       "<IPython.core.display.HTML object>"
      ]
     },
     "metadata": {},
     "output_type": "display_data"
    },
    {
     "name": "stderr",
     "output_type": "stream",
     "text": [
      "\u001b[32m[I 2022-06-18 08:22:34,429]\u001b[0m Trial 33 pruned. \u001b[0m\n",
      "\u001b[32m[IRSPACK:I 2022-06-18 08:22:34,438]\u001b[0m \u001b[34mTrial 34:\u001b[0m\n",
      "\u001b[32m[IRSPACK:I 2022-06-18 08:22:34,439]\u001b[0m \u001b[34mparameter = {'alpha0': 0.025909271245252625, 'reg': 0.009492148252279448, 'n_components': 192}\u001b[0m\n"
     ]
    },
    {
     "data": {
      "text/html": [
       "\n",
       "<style>\n",
       "    /* Turns off some styling */\n",
       "    progress {\n",
       "        /* gets rid of default border in Firefox and Opera. */\n",
       "        border: none;\n",
       "        /* Needs to be in here for Safari polyfill so background images work as expected. */\n",
       "        background-size: auto;\n",
       "    }\n",
       "    .progress-bar-interrupted, .progress-bar-interrupted::-webkit-progress-bar {\n",
       "        background: #F44336;\n",
       "    }\n",
       "</style>\n"
      ],
      "text/plain": [
       "<IPython.core.display.HTML object>"
      ]
     },
     "metadata": {},
     "output_type": "display_data"
    },
    {
     "data": {
      "text/html": [
       "\n",
       "    <div>\n",
       "      <progress value='13' class='' max='16' style='width:300px; height:20px; vertical-align: middle;'></progress>\n",
       "      81.25% [13/16 00:02<00:00 ndcg@10=0.4397810793574641]\n",
       "    </div>\n",
       "    "
      ],
      "text/plain": [
       "<IPython.core.display.HTML object>"
      ]
     },
     "metadata": {},
     "output_type": "display_data"
    },
    {
     "name": "stderr",
     "output_type": "stream",
     "text": [
      "\u001b[32m[IRSPACK:I 2022-06-18 08:22:37,600]\u001b[0m \u001b[34mConfig 34 obtained the following scores: {'appeared_item': 2689.0, 'entropy': 7.285864754091686, 'gini_index': 0.706350026103872, 'hit': 0.7322847682119206, 'map': 0.3520368180384737, 'n_items': 3704.0, 'ndcg': 0.441952566073967, 'precision': 0.07322847682119206, 'recall': 0.7322847682119206, 'total_user': 6040.0, 'valid_user': 6040.0} within 3.170762 seconds.\u001b[0m\n",
      "\u001b[32m[I 2022-06-18 08:22:37,602]\u001b[0m Trial 34 finished with value: -0.441952566073967 and parameters: {'alpha0': 0.025909271245252625, 'reg': 0.009492148252279448}. Best is trial 29 with value: -0.45715350596349286.\u001b[0m\n",
      "\u001b[32m[IRSPACK:I 2022-06-18 08:22:37,611]\u001b[0m \u001b[34mTrial 35:\u001b[0m\n",
      "\u001b[32m[IRSPACK:I 2022-06-18 08:22:37,611]\u001b[0m \u001b[34mparameter = {'alpha0': 0.6613351951462518, 'reg': 0.003978156749885238, 'n_components': 192}\u001b[0m\n"
     ]
    },
    {
     "data": {
      "text/html": [
       "\n",
       "<style>\n",
       "    /* Turns off some styling */\n",
       "    progress {\n",
       "        /* gets rid of default border in Firefox and Opera. */\n",
       "        border: none;\n",
       "        /* Needs to be in here for Safari polyfill so background images work as expected. */\n",
       "        background-size: auto;\n",
       "    }\n",
       "    .progress-bar-interrupted, .progress-bar-interrupted::-webkit-progress-bar {\n",
       "        background: #F44336;\n",
       "    }\n",
       "</style>\n"
      ],
      "text/plain": [
       "<IPython.core.display.HTML object>"
      ]
     },
     "metadata": {},
     "output_type": "display_data"
    },
    {
     "data": {
      "text/html": [
       "\n",
       "    <div>\n",
       "      <progress value='0' class='' max='16' style='width:300px; height:20px; vertical-align: middle;'></progress>\n",
       "      0.00% [0/16 00:00<00:00]\n",
       "    </div>\n",
       "    "
      ],
      "text/plain": [
       "<IPython.core.display.HTML object>"
      ]
     },
     "metadata": {},
     "output_type": "display_data"
    },
    {
     "name": "stderr",
     "output_type": "stream",
     "text": [
      "\u001b[32m[I 2022-06-18 08:22:37,878]\u001b[0m Trial 35 pruned. \u001b[0m\n",
      "\u001b[32m[IRSPACK:I 2022-06-18 08:22:37,887]\u001b[0m \u001b[34mTrial 36:\u001b[0m\n",
      "\u001b[32m[IRSPACK:I 2022-06-18 08:22:37,888]\u001b[0m \u001b[34mparameter = {'alpha0': 0.11884551336807544, 'reg': 0.0019010987778407956, 'n_components': 192}\u001b[0m\n"
     ]
    },
    {
     "data": {
      "text/html": [
       "\n",
       "<style>\n",
       "    /* Turns off some styling */\n",
       "    progress {\n",
       "        /* gets rid of default border in Firefox and Opera. */\n",
       "        border: none;\n",
       "        /* Needs to be in here for Safari polyfill so background images work as expected. */\n",
       "        background-size: auto;\n",
       "    }\n",
       "    .progress-bar-interrupted, .progress-bar-interrupted::-webkit-progress-bar {\n",
       "        background: #F44336;\n",
       "    }\n",
       "</style>\n"
      ],
      "text/plain": [
       "<IPython.core.display.HTML object>"
      ]
     },
     "metadata": {},
     "output_type": "display_data"
    },
    {
     "data": {
      "text/html": [
       "\n",
       "    <div>\n",
       "      <progress value='2' class='' max='16' style='width:300px; height:20px; vertical-align: middle;'></progress>\n",
       "      12.50% [2/16 00:00<00:02 ndcg@10=0.422616244888303]\n",
       "    </div>\n",
       "    "
      ],
      "text/plain": [
       "<IPython.core.display.HTML object>"
      ]
     },
     "metadata": {},
     "output_type": "display_data"
    },
    {
     "name": "stderr",
     "output_type": "stream",
     "text": [
      "\u001b[32m[I 2022-06-18 08:22:38,586]\u001b[0m Trial 36 pruned. \u001b[0m\n",
      "\u001b[32m[IRSPACK:I 2022-06-18 08:22:38,595]\u001b[0m \u001b[34mTrial 37:\u001b[0m\n",
      "\u001b[32m[IRSPACK:I 2022-06-18 08:22:38,595]\u001b[0m \u001b[34mparameter = {'alpha0': 0.07794758005102936, 'reg': 0.014163842943737471, 'n_components': 192}\u001b[0m\n"
     ]
    },
    {
     "data": {
      "text/html": [
       "\n",
       "<style>\n",
       "    /* Turns off some styling */\n",
       "    progress {\n",
       "        /* gets rid of default border in Firefox and Opera. */\n",
       "        border: none;\n",
       "        /* Needs to be in here for Safari polyfill so background images work as expected. */\n",
       "        background-size: auto;\n",
       "    }\n",
       "    .progress-bar-interrupted, .progress-bar-interrupted::-webkit-progress-bar {\n",
       "        background: #F44336;\n",
       "    }\n",
       "</style>\n"
      ],
      "text/plain": [
       "<IPython.core.display.HTML object>"
      ]
     },
     "metadata": {},
     "output_type": "display_data"
    },
    {
     "data": {
      "text/html": [
       "\n",
       "    <div>\n",
       "      <progress value='0' class='' max='16' style='width:300px; height:20px; vertical-align: middle;'></progress>\n",
       "      0.00% [0/16 00:00<00:00]\n",
       "    </div>\n",
       "    "
      ],
      "text/plain": [
       "<IPython.core.display.HTML object>"
      ]
     },
     "metadata": {},
     "output_type": "display_data"
    },
    {
     "name": "stderr",
     "output_type": "stream",
     "text": [
      "\u001b[32m[I 2022-06-18 08:22:38,870]\u001b[0m Trial 37 pruned. \u001b[0m\n",
      "\u001b[32m[IRSPACK:I 2022-06-18 08:22:38,879]\u001b[0m \u001b[34mTrial 38:\u001b[0m\n",
      "\u001b[32m[IRSPACK:I 2022-06-18 08:22:38,880]\u001b[0m \u001b[34mparameter = {'alpha0': 0.04587692461736193, 'reg': 0.007922630332602817, 'n_components': 192}\u001b[0m\n"
     ]
    },
    {
     "data": {
      "text/html": [
       "\n",
       "<style>\n",
       "    /* Turns off some styling */\n",
       "    progress {\n",
       "        /* gets rid of default border in Firefox and Opera. */\n",
       "        border: none;\n",
       "        /* Needs to be in here for Safari polyfill so background images work as expected. */\n",
       "        background-size: auto;\n",
       "    }\n",
       "    .progress-bar-interrupted, .progress-bar-interrupted::-webkit-progress-bar {\n",
       "        background: #F44336;\n",
       "    }\n",
       "</style>\n"
      ],
      "text/plain": [
       "<IPython.core.display.HTML object>"
      ]
     },
     "metadata": {},
     "output_type": "display_data"
    },
    {
     "data": {
      "text/html": [
       "\n",
       "    <div>\n",
       "      <progress value='10' class='' max='16' style='width:300px; height:20px; vertical-align: middle;'></progress>\n",
       "      62.50% [10/16 00:02<00:01 ndcg@10=0.4462199935604805]\n",
       "    </div>\n",
       "    "
      ],
      "text/plain": [
       "<IPython.core.display.HTML object>"
      ]
     },
     "metadata": {},
     "output_type": "display_data"
    },
    {
     "name": "stderr",
     "output_type": "stream",
     "text": [
      "\u001b[32m[IRSPACK:I 2022-06-18 08:22:41,402]\u001b[0m \u001b[34mConfig 38 obtained the following scores: {'appeared_item': 2765.0, 'entropy': 7.373578701117112, 'gini_index': 0.6780481097936006, 'hit': 0.7379139072847682, 'map': 0.35815627299484903, 'n_items': 3704.0, 'ndcg': 0.4479948470243146, 'precision': 0.0737913907284768, 'recall': 0.7379139072847682, 'total_user': 6040.0, 'valid_user': 6040.0} within 2.531258 seconds.\u001b[0m\n",
      "\u001b[32m[I 2022-06-18 08:22:41,404]\u001b[0m Trial 38 finished with value: -0.4479948470243146 and parameters: {'alpha0': 0.04587692461736193, 'reg': 0.007922630332602817}. Best is trial 29 with value: -0.45715350596349286.\u001b[0m\n",
      "\u001b[32m[IRSPACK:I 2022-06-18 08:22:41,413]\u001b[0m \u001b[34mTrial 39:\u001b[0m\n",
      "\u001b[32m[IRSPACK:I 2022-06-18 08:22:41,413]\u001b[0m \u001b[34mparameter = {'alpha0': 0.3323156467701052, 'reg': 0.0028721481496044128, 'n_components': 192}\u001b[0m\n"
     ]
    },
    {
     "data": {
      "text/html": [
       "\n",
       "<style>\n",
       "    /* Turns off some styling */\n",
       "    progress {\n",
       "        /* gets rid of default border in Firefox and Opera. */\n",
       "        border: none;\n",
       "        /* Needs to be in here for Safari polyfill so background images work as expected. */\n",
       "        background-size: auto;\n",
       "    }\n",
       "    .progress-bar-interrupted, .progress-bar-interrupted::-webkit-progress-bar {\n",
       "        background: #F44336;\n",
       "    }\n",
       "</style>\n"
      ],
      "text/plain": [
       "<IPython.core.display.HTML object>"
      ]
     },
     "metadata": {},
     "output_type": "display_data"
    },
    {
     "data": {
      "text/html": [
       "\n",
       "    <div>\n",
       "      <progress value='7' class='' max='16' style='width:300px; height:20px; vertical-align: middle;'></progress>\n",
       "      43.75% [7/16 00:01<00:01 ndcg@10=0.44256044494979224]\n",
       "    </div>\n",
       "    "
      ],
      "text/plain": [
       "<IPython.core.display.HTML object>"
      ]
     },
     "metadata": {},
     "output_type": "display_data"
    },
    {
     "name": "stderr",
     "output_type": "stream",
     "text": [
      "\u001b[32m[IRSPACK:I 2022-06-18 08:22:43,290]\u001b[0m \u001b[34mConfig 39 obtained the following scores: {'appeared_item': 2624.0, 'entropy': 7.4281180751395715, 'gini_index': 0.6569347617753494, 'hit': 0.7299668874172185, 'map': 0.3592799327236413, 'n_items': 3704.0, 'ndcg': 0.44715632826157664, 'precision': 0.07299668874172188, 'recall': 0.7299668874172185, 'total_user': 6040.0, 'valid_user': 6040.0} within 1.885472 seconds.\u001b[0m\n",
      "\u001b[32m[I 2022-06-18 08:22:43,292]\u001b[0m Trial 39 finished with value: -0.44715632826157664 and parameters: {'alpha0': 0.3323156467701052, 'reg': 0.0028721481496044128}. Best is trial 29 with value: -0.45715350596349286.\u001b[0m\n"
     ]
    }
   ],
   "source": [
    "import optuna\n",
    "\n",
    "study = optuna.create_study(\n",
    "    pruner=optuna.pruners.MedianPruner(n_min_trials=20),\n",
    "    sampler=optuna.samplers.TPESampler(seed=0)\n",
    ")\n",
    "validation_evaluator = Evaluator(X_tv_gt, per_user_recommendable_items=X_tv_recommendable, cutoff=10)\n",
    "best_parameter, validation_recoder = IALSOptimizer(\n",
    "    X_tt, validation_evaluator, fixed_params=dict(n_components=192)).optimize_with_study(\n",
    "    study, n_trials=40\n",
    "    \n",
    ")"
   ]
  },
  {
   "cell_type": "code",
   "execution_count": 8,
   "id": "00f5e431",
   "metadata": {},
   "outputs": [],
   "source": [
    "X_train_all, user_ids, _ = df_to_sparse(train, USER, ITEM, item_ids=item_list)\n",
    "X_test_gt, _, __ = df_to_sparse(test[test[\"positive\"]], USER, ITEM, user_ids=user_ids, item_ids=item_list)\n",
    "X_test_recommendable, _, __ = df_to_sparse(test, USER, ITEM, user_ids=user_ids, item_ids=item_list)"
   ]
  },
  {
   "cell_type": "markdown",
   "id": "5452f612-1cd8-40da-9c24-0bb098c01e10",
   "metadata": {},
   "source": [
    "NDCG@10/HIT@10 is similar to that reported in the reference."
   ]
  },
  {
   "cell_type": "code",
   "execution_count": 9,
   "id": "031e02cf",
   "metadata": {},
   "outputs": [
    {
     "data": {
      "text/html": [
       "\n",
       "<style>\n",
       "    /* Turns off some styling */\n",
       "    progress {\n",
       "        /* gets rid of default border in Firefox and Opera. */\n",
       "        border: none;\n",
       "        /* Needs to be in here for Safari polyfill so background images work as expected. */\n",
       "        background-size: auto;\n",
       "    }\n",
       "    .progress-bar-interrupted, .progress-bar-interrupted::-webkit-progress-bar {\n",
       "        background: #F44336;\n",
       "    }\n",
       "</style>\n"
      ],
      "text/plain": [
       "<IPython.core.display.HTML object>"
      ]
     },
     "metadata": {},
     "output_type": "display_data"
    },
    {
     "data": {
      "text/html": [
       "\n",
       "    <div>\n",
       "      <progress value='6' class='' max='6' style='width:300px; height:20px; vertical-align: middle;'></progress>\n",
       "      100.00% [6/6 00:00<00:00]\n",
       "    </div>\n",
       "    "
      ],
      "text/plain": [
       "<IPython.core.display.HTML object>"
      ]
     },
     "metadata": {},
     "output_type": "display_data"
    },
    {
     "data": {
      "text/plain": [
       "{'appeared_item': 2714.0,\n",
       " 'entropy': 7.405239384868466,\n",
       " 'gini_index': 0.6666932769922957,\n",
       " 'hit': 0.7310367671414376,\n",
       " 'map': 0.36564331982102766,\n",
       " 'n_items': 3704.0,\n",
       " 'ndcg': 0.4521301417636353,\n",
       " 'precision': 0.07310367671414375,\n",
       " 'recall': 0.7310367671414376,\n",
       " 'total_user': 6040.0,\n",
       " 'valid_user': 6038.0}"
      ]
     },
     "execution_count": 9,
     "metadata": {},
     "output_type": "execute_result"
    }
   ],
   "source": [
    "Evaluator(X_test_gt, per_user_recommendable_items=X_test_recommendable, cutoff=10).get_score(\n",
    "    IALSRecommender(X_train_all, **best_parameter).learn()\n",
    ")"
   ]
  },
  {
   "cell_type": "code",
   "execution_count": null,
   "id": "de20957a-70cd-4914-9402-463bde378920",
   "metadata": {},
   "outputs": [],
   "source": []
  }
 ],
 "metadata": {
  "interpreter": {
   "hash": "2c8d963a96d0919c97b2debbb8f097e0c884c04e5d1a6aef0590fcc7fac9e98a"
  },
  "kernelspec": {
   "display_name": "Python 3 (ipykernel)",
   "language": "python",
   "name": "python3"
  },
  "language_info": {
   "codemirror_mode": {
    "name": "ipython",
    "version": 3
   },
   "file_extension": ".py",
   "mimetype": "text/x-python",
   "name": "python",
   "nbconvert_exporter": "python",
   "pygments_lexer": "ipython3",
   "version": "3.10.0"
  }
 },
 "nbformat": 4,
 "nbformat_minor": 5
}
