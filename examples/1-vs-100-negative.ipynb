{
 "cells": [
  {
   "cell_type": "markdown",
   "id": "9f530e19",
   "metadata": {},
   "source": [
    "# Sampled item evaluation protocol\n",
    "\n",
    "This notebook aims to reproduce the result for ML1M & Pinterest in the paper [\"Revisiting the Performance of iALS on Item Recommendation Benchmarks\"](https://arxiv.org/abs/2110.14037). On these two datasets, for each user, we try to rank 1 held-out positive (actually touched by the user) item over 100 randomly selected negative (untouched) items.\n",
    "\n",
    "Since the protocol is widely used for recsys benchmarking after the [NeuMF paper](https://arxiv.org/abs/1708.05031), below we see how we can measure the recommenders' performance following it. Note, however, there is [a study](https://dl.acm.org/doi/10.1145/3394486.3403226) which asserts that this ranking metric may not be a good indicator for recommender performance."
   ]
  },
  {
   "cell_type": "code",
   "execution_count": 1,
   "id": "ad493486-f40f-4403-bf28-96320374f53c",
   "metadata": {},
   "outputs": [],
   "source": [
    "from irspack import Evaluator, IALSRecommender, df_to_sparse, split_last_n_interaction_df\n",
    "from irspack.dataset.neu_mf import NeuMFML1MDownloader, NeuMFMPinterestDownloader\n",
    "import numpy as np\n",
    "import pandas as pd\n",
    "\n",
    "\n",
    "# Either ml-1m or pinterest\n",
    "DATA_TYPE = 'ml-1m'\n",
    "assert DATA_TYPE in ['ml-1m', 'pinterest']\n",
    "\n",
    "USER = 'user_id'\n",
    "ITEM = 'item_id'\n",
    "TIME = 'timestamp'\n",
    "\n",
    "if DATA_TYPE == 'ml-1m':\n",
    "    dm = NeuMFML1MDownloader()\n",
    "else:\n",
    "    dm = NeuMFMPinterestDownloader()"
   ]
  },
  {
   "cell_type": "markdown",
   "id": "996da3fb",
   "metadata": {},
   "source": [
    "## Read the train & test dataset\n",
    "\n",
    "The train set is a usual user/item interaction dataframe."
   ]
  },
  {
   "cell_type": "code",
   "execution_count": 2,
   "id": "146c9ec5-d90e-4c95-970c-4c3efc373733",
   "metadata": {},
   "outputs": [
    {
     "data": {
      "text/html": [
       "<div>\n",
       "<style scoped>\n",
       "    .dataframe tbody tr th:only-of-type {\n",
       "        vertical-align: middle;\n",
       "    }\n",
       "\n",
       "    .dataframe tbody tr th {\n",
       "        vertical-align: top;\n",
       "    }\n",
       "\n",
       "    .dataframe thead th {\n",
       "        text-align: right;\n",
       "    }\n",
       "</style>\n",
       "<table border=\"1\" class=\"dataframe\">\n",
       "  <thead>\n",
       "    <tr style=\"text-align: right;\">\n",
       "      <th></th>\n",
       "      <th>user_id</th>\n",
       "      <th>item_id</th>\n",
       "      <th>rating</th>\n",
       "      <th>timestamp</th>\n",
       "    </tr>\n",
       "  </thead>\n",
       "  <tbody>\n",
       "    <tr>\n",
       "      <th>0</th>\n",
       "      <td>0</td>\n",
       "      <td>32</td>\n",
       "      <td>4</td>\n",
       "      <td>2001-01-06 23:38:50</td>\n",
       "    </tr>\n",
       "    <tr>\n",
       "      <th>1</th>\n",
       "      <td>0</td>\n",
       "      <td>34</td>\n",
       "      <td>4</td>\n",
       "      <td>2001-01-06 23:38:50</td>\n",
       "    </tr>\n",
       "    <tr>\n",
       "      <th>2</th>\n",
       "      <td>0</td>\n",
       "      <td>4</td>\n",
       "      <td>5</td>\n",
       "      <td>2001-01-06 23:38:11</td>\n",
       "    </tr>\n",
       "    <tr>\n",
       "      <th>3</th>\n",
       "      <td>0</td>\n",
       "      <td>35</td>\n",
       "      <td>4</td>\n",
       "      <td>2001-01-06 23:38:11</td>\n",
       "    </tr>\n",
       "    <tr>\n",
       "      <th>4</th>\n",
       "      <td>0</td>\n",
       "      <td>30</td>\n",
       "      <td>4</td>\n",
       "      <td>2001-01-06 23:38:11</td>\n",
       "    </tr>\n",
       "  </tbody>\n",
       "</table>\n",
       "</div>"
      ],
      "text/plain": [
       "   user_id  item_id  rating           timestamp\n",
       "0        0       32       4 2001-01-06 23:38:50\n",
       "1        0       34       4 2001-01-06 23:38:50\n",
       "2        0        4       5 2001-01-06 23:38:11\n",
       "3        0       35       4 2001-01-06 23:38:11\n",
       "4        0       30       4 2001-01-06 23:38:11"
      ]
     },
     "execution_count": 2,
     "metadata": {},
     "output_type": "execute_result"
    }
   ],
   "source": [
    "train, test = dm.read_train_test()\n",
    "train.head()"
   ]
  },
  {
   "cell_type": "code",
   "execution_count": 3,
   "id": "a1525773",
   "metadata": {},
   "outputs": [],
   "source": [
    "item_list = sorted(list(set(train['item_id'])))\n",
    "item_set = set(item_list)"
   ]
  },
  {
   "cell_type": "markdown",
   "id": "3a9d42d6",
   "metadata": {},
   "source": [
    "## Create validation data\n",
    "\n",
    "Split `train` into train (`tt`) & validation (`tv`) pair.\n",
    "\n",
    "The validation data is created in the same way as the test set."
   ]
  },
  {
   "cell_type": "code",
   "execution_count": 4,
   "id": "3038367a-af71-40e0-86ff-f797b8fd838e",
   "metadata": {},
   "outputs": [],
   "source": [
    "g=train.groupby('user_id')['item_id']\n",
    "user_id_vs_interacted_items = g.agg(set).to_dict()\n",
    "\n",
    "rng = np.random.default_rng(0)\n",
    "\n",
    "# tv is users' last interaction with item.\n",
    "tt, tv = split_last_n_interaction_df(train, USER, timestamp_column=TIME, n_heldout=1)\n",
    "tv['positive'] = True\n",
    "dfs = []\n",
    "for user_id in tv[USER]:\n",
    "    items_not_interacted = list(item_set - user_id_vs_interacted_items[user_id])\n",
    "    negatives = rng.choice(items_not_interacted, size=100, replace=False)\n",
    "    dfs.append(pd.DataFrame({USER: user_id, ITEM: negatives}))\n",
    "valid = pd.concat(dfs)\n",
    "valid['positive'] = False\n",
    "valid = pd.concat([valid, tv[[USER, ITEM, 'positive']]]).sort_values([USER, 'positive'])"
   ]
  },
  {
   "cell_type": "markdown",
   "id": "299af34b",
   "metadata": {},
   "source": [
    "The validation dataframe has an extra column to indicate the positivity of the pair."
   ]
  },
  {
   "cell_type": "code",
   "execution_count": 5,
   "id": "c5b60908",
   "metadata": {},
   "outputs": [
    {
     "data": {
      "text/html": [
       "<div>\n",
       "<style scoped>\n",
       "    .dataframe tbody tr th:only-of-type {\n",
       "        vertical-align: middle;\n",
       "    }\n",
       "\n",
       "    .dataframe tbody tr th {\n",
       "        vertical-align: top;\n",
       "    }\n",
       "\n",
       "    .dataframe thead th {\n",
       "        text-align: right;\n",
       "    }\n",
       "</style>\n",
       "<table border=\"1\" class=\"dataframe\">\n",
       "  <thead>\n",
       "    <tr style=\"text-align: right;\">\n",
       "      <th></th>\n",
       "      <th>user_id</th>\n",
       "      <th>item_id</th>\n",
       "      <th>positive</th>\n",
       "    </tr>\n",
       "  </thead>\n",
       "  <tbody>\n",
       "    <tr>\n",
       "      <th>0</th>\n",
       "      <td>0</td>\n",
       "      <td>1014</td>\n",
       "      <td>False</td>\n",
       "    </tr>\n",
       "    <tr>\n",
       "      <th>1</th>\n",
       "      <td>0</td>\n",
       "      <td>131</td>\n",
       "      <td>False</td>\n",
       "    </tr>\n",
       "    <tr>\n",
       "      <th>2</th>\n",
       "      <td>0</td>\n",
       "      <td>1281</td>\n",
       "      <td>False</td>\n",
       "    </tr>\n",
       "    <tr>\n",
       "      <th>3</th>\n",
       "      <td>0</td>\n",
       "      <td>2669</td>\n",
       "      <td>False</td>\n",
       "    </tr>\n",
       "    <tr>\n",
       "      <th>4</th>\n",
       "      <td>0</td>\n",
       "      <td>372</td>\n",
       "      <td>False</td>\n",
       "    </tr>\n",
       "  </tbody>\n",
       "</table>\n",
       "</div>"
      ],
      "text/plain": [
       "   user_id  item_id  positive\n",
       "0        0     1014     False\n",
       "1        0      131     False\n",
       "2        0     1281     False\n",
       "3        0     2669     False\n",
       "4        0      372     False"
      ]
     },
     "execution_count": 5,
     "metadata": {},
     "output_type": "execute_result"
    }
   ],
   "source": [
    "valid.head()"
   ]
  },
  {
   "cell_type": "markdown",
   "id": "4a67d2de",
   "metadata": {},
   "source": [
    "Let us convert the data frame into sparse matrix."
   ]
  },
  {
   "cell_type": "code",
   "execution_count": 6,
   "id": "d54b3cd3-fc99-4b20-b7c2-e7e0f51d32ad",
   "metadata": {},
   "outputs": [],
   "source": [
    "X_tt, tt_users, _ = df_to_sparse(tt, USER, ITEM, item_ids=item_list)\n",
    "X_tv_gt, _, __ = df_to_sparse(valid[valid['positive']], USER, ITEM, user_ids=tt_users, item_ids=item_list)\n",
    "X_tv_recommendable, _, __ = df_to_sparse(valid, USER, ITEM, user_ids=tt_users, item_ids=item_list)"
   ]
  },
  {
   "cell_type": "markdown",
   "id": "fe215b64",
   "metadata": {},
   "source": [
    "\n",
    "- Non-zeroes in `X_truth` indicate the positive pair location.\n",
    "- Non-zeroes in `X_recommendable` are positive & randomly seledted negative pairs.\n",
    "\n",
    "In the parameter tuning procedure, I found that too eary start of pruning harms the final quality of recommendation.\n",
    "We can control the parameters of pruning by explicitly providing `optuna.Study`."
   ]
  },
  {
   "cell_type": "code",
   "execution_count": 7,
   "id": "49988a11-5657-4c71-8ff5-eeeda2a90fc5",
   "metadata": {},
   "outputs": [
    {
     "name": "stderr",
     "output_type": "stream",
     "text": [
      "\u001b[32m[I 2022-06-22 23:45:55,197]\u001b[0m A new study created in memory with name: no-name-dc21145c-edc2-4822-9a04-74f5c26a98f2\u001b[0m\n",
      "\u001b[32m[IRSPACK:I 2022-06-22 23:45:55,198]\u001b[0m \u001b[34mStart parameter search for IALSRecommender\u001b[0m\n",
      "/home/tomoki/.pyenv/versions/3.10.0/envs/main/lib/python3.10/site-packages/optuna-3.0.0a2-py3.10.egg/optuna/trial/_trial.py:167: FutureWarning: LogUniformDistribution has been deprecated in v3.0.0. This feature will be removed in v6.0.0. See https://github.com/optuna/optuna/releases/tag/v3.0.0. Use :class:`~optuna.distributions.FloatDistribution` instead.\n",
      "  distribution = LogUniformDistribution(low=low, high=high)\n",
      "\u001b[32m[IRSPACK:I 2022-06-22 23:45:55,200]\u001b[0m \u001b[34mTrial 0:\u001b[0m\n",
      "\u001b[32m[IRSPACK:I 2022-06-22 23:45:55,200]\u001b[0m \u001b[34mparameter = {'alpha0': 0.07272959662822967, 'reg': 0.013981961408994055, 'n_components': 192}\u001b[0m\n"
     ]
    },
    {
     "data": {
      "text/html": [
       "\n",
       "<style>\n",
       "    /* Turns off some styling */\n",
       "    progress {\n",
       "        /* gets rid of default border in Firefox and Opera. */\n",
       "        border: none;\n",
       "        /* Needs to be in here for Safari polyfill so background images work as expected. */\n",
       "        background-size: auto;\n",
       "    }\n",
       "    .progress-bar-interrupted, .progress-bar-interrupted::-webkit-progress-bar {\n",
       "        background: #F44336;\n",
       "    }\n",
       "</style>\n"
      ],
      "text/plain": [
       "<IPython.core.display.HTML object>"
      ]
     },
     "metadata": {},
     "output_type": "display_data"
    },
    {
     "data": {
      "text/html": [
       "\n",
       "    <div>\n",
       "      <progress value='12' class='' max='16' style='width:300px; height:20px; vertical-align: middle;'></progress>\n",
       "      75.00% [12/16 00:02<00:00 ndcg@10=0.44699105413630774]\n",
       "    </div>\n",
       "    "
      ],
      "text/plain": [
       "<IPython.core.display.HTML object>"
      ]
     },
     "metadata": {},
     "output_type": "display_data"
    },
    {
     "name": "stderr",
     "output_type": "stream",
     "text": [
      "\u001b[32m[IRSPACK:I 2022-06-22 23:45:58,153]\u001b[0m \u001b[34mConfig 0 obtained the following scores: {'appeared_item': 2533.0, 'entropy': 7.266555221504073, 'gini_index': 0.71171690172071, 'hit': 0.7433774834437086, 'map': 0.355461867970146, 'n_items': 3704.0, 'ndcg': 0.4471810842792405, 'precision': 0.07433774834437087, 'recall': 0.7433774834437086, 'total_user': 6040.0, 'valid_user': 6040.0} within 2.954025 seconds.\u001b[0m\n",
      "\u001b[32m[I 2022-06-22 23:45:58,154]\u001b[0m Trial 0 finished with value: -0.4471810842792405 and parameters: {'alpha0': 0.07272959662822967, 'reg': 0.013981961408994055}. Best is trial 0 with value: -0.4471810842792405.\u001b[0m\n",
      "\u001b[32m[IRSPACK:I 2022-06-22 23:45:58,155]\u001b[0m \u001b[34mTrial 1:\u001b[0m\n",
      "\u001b[32m[IRSPACK:I 2022-06-22 23:45:58,156]\u001b[0m \u001b[34mparameter = {'alpha0': 0.09949933190234594, 'reg': 0.004311710058685493, 'n_components': 192}\u001b[0m\n"
     ]
    },
    {
     "data": {
      "text/html": [
       "\n",
       "<style>\n",
       "    /* Turns off some styling */\n",
       "    progress {\n",
       "        /* gets rid of default border in Firefox and Opera. */\n",
       "        border: none;\n",
       "        /* Needs to be in here for Safari polyfill so background images work as expected. */\n",
       "        background-size: auto;\n",
       "    }\n",
       "    .progress-bar-interrupted, .progress-bar-interrupted::-webkit-progress-bar {\n",
       "        background: #F44336;\n",
       "    }\n",
       "</style>\n"
      ],
      "text/plain": [
       "<IPython.core.display.HTML object>"
      ]
     },
     "metadata": {},
     "output_type": "display_data"
    },
    {
     "data": {
      "text/html": [
       "\n",
       "    <div>\n",
       "      <progress value='6' class='' max='16' style='width:300px; height:20px; vertical-align: middle;'></progress>\n",
       "      37.50% [6/16 00:01<00:02 ndcg@10=0.44205454793859267]\n",
       "    </div>\n",
       "    "
      ],
      "text/plain": [
       "<IPython.core.display.HTML object>"
      ]
     },
     "metadata": {},
     "output_type": "display_data"
    },
    {
     "name": "stderr",
     "output_type": "stream",
     "text": [
      "\u001b[32m[IRSPACK:I 2022-06-22 23:45:59,846]\u001b[0m \u001b[34mConfig 1 obtained the following scores: {'appeared_item': 2815.0, 'entropy': 7.497205313232185, 'gini_index': 0.6322773393360319, 'hit': 0.7228476821192052, 'map': 0.3569180332177021, 'n_items': 3704.0, 'ndcg': 0.44372159292884533, 'precision': 0.07228476821192055, 'recall': 0.7228476821192052, 'total_user': 6040.0, 'valid_user': 6040.0} within 1.691079 seconds.\u001b[0m\n",
      "\u001b[32m[I 2022-06-22 23:45:59,847]\u001b[0m Trial 1 finished with value: -0.44372159292884533 and parameters: {'alpha0': 0.09949933190234594, 'reg': 0.004311710058685493}. Best is trial 0 with value: -0.4471810842792405.\u001b[0m\n",
      "\u001b[32m[IRSPACK:I 2022-06-22 23:45:59,848]\u001b[0m \u001b[34mTrial 2:\u001b[0m\n",
      "\u001b[32m[IRSPACK:I 2022-06-22 23:45:59,848]\u001b[0m \u001b[34mparameter = {'alpha0': 0.03515207314851792, 'reg': 0.008663279761354562, 'n_components': 192}\u001b[0m\n"
     ]
    },
    {
     "data": {
      "text/html": [
       "\n",
       "<style>\n",
       "    /* Turns off some styling */\n",
       "    progress {\n",
       "        /* gets rid of default border in Firefox and Opera. */\n",
       "        border: none;\n",
       "        /* Needs to be in here for Safari polyfill so background images work as expected. */\n",
       "        background-size: auto;\n",
       "    }\n",
       "    .progress-bar-interrupted, .progress-bar-interrupted::-webkit-progress-bar {\n",
       "        background: #F44336;\n",
       "    }\n",
       "</style>\n"
      ],
      "text/plain": [
       "<IPython.core.display.HTML object>"
      ]
     },
     "metadata": {},
     "output_type": "display_data"
    },
    {
     "data": {
      "text/html": [
       "\n",
       "    <div>\n",
       "      <progress value='8' class='' max='16' style='width:300px; height:20px; vertical-align: middle;'></progress>\n",
       "      50.00% [8/16 00:01<00:01 ndcg@10=0.445060831971929]\n",
       "    </div>\n",
       "    "
      ],
      "text/plain": [
       "<IPython.core.display.HTML object>"
      ]
     },
     "metadata": {},
     "output_type": "display_data"
    },
    {
     "name": "stderr",
     "output_type": "stream",
     "text": [
      "\u001b[32m[IRSPACK:I 2022-06-22 23:46:01,943]\u001b[0m \u001b[34mConfig 2 obtained the following scores: {'appeared_item': 2725.0, 'entropy': 7.334784184071107, 'gini_index': 0.690905169639409, 'hit': 0.7370860927152317, 'map': 0.35466893987175446, 'n_items': 3704.0, 'ndcg': 0.44506594904049857, 'precision': 0.0737086092715232, 'recall': 0.7370860927152317, 'total_user': 6040.0, 'valid_user': 6040.0} within 2.095288 seconds.\u001b[0m\n",
      "\u001b[32m[I 2022-06-22 23:46:01,944]\u001b[0m Trial 2 finished with value: -0.44506594904049857 and parameters: {'alpha0': 0.03515207314851792, 'reg': 0.008663279761354562}. Best is trial 0 with value: -0.4471810842792405.\u001b[0m\n",
      "\u001b[32m[IRSPACK:I 2022-06-22 23:46:01,945]\u001b[0m \u001b[34mTrial 3:\u001b[0m\n",
      "\u001b[32m[IRSPACK:I 2022-06-22 23:46:01,946]\u001b[0m \u001b[34mparameter = {'alpha0': 0.03811542171376733, 'reg': 0.04734989304499478, 'n_components': 192}\u001b[0m\n"
     ]
    },
    {
     "data": {
      "text/html": [
       "\n",
       "<style>\n",
       "    /* Turns off some styling */\n",
       "    progress {\n",
       "        /* gets rid of default border in Firefox and Opera. */\n",
       "        border: none;\n",
       "        /* Needs to be in here for Safari polyfill so background images work as expected. */\n",
       "        background-size: auto;\n",
       "    }\n",
       "    .progress-bar-interrupted, .progress-bar-interrupted::-webkit-progress-bar {\n",
       "        background: #F44336;\n",
       "    }\n",
       "</style>\n"
      ],
      "text/plain": [
       "<IPython.core.display.HTML object>"
      ]
     },
     "metadata": {},
     "output_type": "display_data"
    },
    {
     "data": {
      "text/html": [
       "\n",
       "    <div>\n",
       "      <progress value='16' class='' max='16' style='width:300px; height:20px; vertical-align: middle;'></progress>\n",
       "      100.00% [16/16 00:03<00:00 ndcg@10=0.3535569763590236]\n",
       "    </div>\n",
       "    "
      ],
      "text/plain": [
       "<IPython.core.display.HTML object>"
      ]
     },
     "metadata": {},
     "output_type": "display_data"
    },
    {
     "name": "stderr",
     "output_type": "stream",
     "text": [
      "\u001b[32m[IRSPACK:I 2022-06-22 23:46:05,537]\u001b[0m \u001b[34mConfig 3 obtained the following scores: {'appeared_item': 1849.0, 'entropy': 6.895916659778797, 'gini_index': 0.8015630408507717, 'hit': 0.6220198675496689, 'map': 0.2712566356564702, 'n_items': 3704.0, 'ndcg': 0.3535569763590235, 'precision': 0.062201986754966895, 'recall': 0.6220198675496689, 'total_user': 6040.0, 'valid_user': 6040.0} within 3.591930 seconds.\u001b[0m\n",
      "\u001b[32m[I 2022-06-22 23:46:05,538]\u001b[0m Trial 3 finished with value: -0.3535569763590235 and parameters: {'alpha0': 0.03811542171376733, 'reg': 0.04734989304499478}. Best is trial 0 with value: -0.4471810842792405.\u001b[0m\n",
      "\u001b[32m[IRSPACK:I 2022-06-22 23:46:05,539]\u001b[0m \u001b[34mTrial 4:\u001b[0m\n",
      "\u001b[32m[IRSPACK:I 2022-06-22 23:46:05,539]\u001b[0m \u001b[34mparameter = {'alpha0': 0.8097026316647072, 'reg': 0.0014135935551752314, 'n_components': 192}\u001b[0m\n"
     ]
    },
    {
     "data": {
      "text/html": [
       "\n",
       "<style>\n",
       "    /* Turns off some styling */\n",
       "    progress {\n",
       "        /* gets rid of default border in Firefox and Opera. */\n",
       "        border: none;\n",
       "        /* Needs to be in here for Safari polyfill so background images work as expected. */\n",
       "        background-size: auto;\n",
       "    }\n",
       "    .progress-bar-interrupted, .progress-bar-interrupted::-webkit-progress-bar {\n",
       "        background: #F44336;\n",
       "    }\n",
       "</style>\n"
      ],
      "text/plain": [
       "<IPython.core.display.HTML object>"
      ]
     },
     "metadata": {},
     "output_type": "display_data"
    },
    {
     "data": {
      "text/html": [
       "\n",
       "    <div>\n",
       "      <progress value='5' class='' max='16' style='width:300px; height:20px; vertical-align: middle;'></progress>\n",
       "      31.25% [5/16 00:01<00:02 ndcg@10=0.43426801665092446]\n",
       "    </div>\n",
       "    "
      ],
      "text/plain": [
       "<IPython.core.display.HTML object>"
      ]
     },
     "metadata": {},
     "output_type": "display_data"
    },
    {
     "name": "stderr",
     "output_type": "stream",
     "text": [
      "\u001b[32m[IRSPACK:I 2022-06-22 23:46:06,974]\u001b[0m \u001b[34mConfig 4 obtained the following scores: {'appeared_item': 2581.0, 'entropy': 7.426171488492948, 'gini_index': 0.6567408421895785, 'hit': 0.7155629139072848, 'map': 0.35333425312729955, 'n_items': 3704.0, 'ndcg': 0.4392475754029193, 'precision': 0.07155629139072851, 'recall': 0.7155629139072848, 'total_user': 6040.0, 'valid_user': 6040.0} within 1.435972 seconds.\u001b[0m\n",
      "\u001b[32m[I 2022-06-22 23:46:06,976]\u001b[0m Trial 4 finished with value: -0.4392475754029193 and parameters: {'alpha0': 0.8097026316647072, 'reg': 0.0014135935551752314}. Best is trial 0 with value: -0.4471810842792405.\u001b[0m\n",
      "\u001b[32m[IRSPACK:I 2022-06-22 23:46:06,977]\u001b[0m \u001b[34mTrial 5:\u001b[0m\n",
      "\u001b[32m[IRSPACK:I 2022-06-22 23:46:06,977]\u001b[0m \u001b[34mparameter = {'alpha0': 0.29822738841429625, 'reg': 0.003860866271460547, 'n_components': 192}\u001b[0m\n"
     ]
    },
    {
     "data": {
      "text/html": [
       "\n",
       "<style>\n",
       "    /* Turns off some styling */\n",
       "    progress {\n",
       "        /* gets rid of default border in Firefox and Opera. */\n",
       "        border: none;\n",
       "        /* Needs to be in here for Safari polyfill so background images work as expected. */\n",
       "        background-size: auto;\n",
       "    }\n",
       "    .progress-bar-interrupted, .progress-bar-interrupted::-webkit-progress-bar {\n",
       "        background: #F44336;\n",
       "    }\n",
       "</style>\n"
      ],
      "text/plain": [
       "<IPython.core.display.HTML object>"
      ]
     },
     "metadata": {},
     "output_type": "display_data"
    },
    {
     "data": {
      "text/html": [
       "\n",
       "    <div>\n",
       "      <progress value='6' class='' max='16' style='width:300px; height:20px; vertical-align: middle;'></progress>\n",
       "      37.50% [6/16 00:01<00:02 ndcg@10=0.44981511121051765]\n",
       "    </div>\n",
       "    "
      ],
      "text/plain": [
       "<IPython.core.display.HTML object>"
      ]
     },
     "metadata": {},
     "output_type": "display_data"
    },
    {
     "name": "stderr",
     "output_type": "stream",
     "text": [
      "\u001b[32m[IRSPACK:I 2022-06-22 23:46:08,652]\u001b[0m \u001b[34mConfig 5 obtained the following scores: {'appeared_item': 2664.0, 'entropy': 7.450912917143624, 'gini_index': 0.6486247818717549, 'hit': 0.7360927152317881, 'map': 0.3649649821297172, 'n_items': 3704.0, 'ndcg': 0.4530556358503701, 'precision': 0.0736092715231788, 'recall': 0.7360927152317881, 'total_user': 6040.0, 'valid_user': 6040.0} within 1.676157 seconds.\u001b[0m\n",
      "\u001b[32m[I 2022-06-22 23:46:08,654]\u001b[0m Trial 5 finished with value: -0.4530556358503701 and parameters: {'alpha0': 0.29822738841429625, 'reg': 0.003860866271460547}. Best is trial 5 with value: -0.4530556358503701.\u001b[0m\n",
      "\u001b[32m[IRSPACK:I 2022-06-22 23:46:08,654]\u001b[0m \u001b[34mTrial 6:\u001b[0m\n",
      "\u001b[32m[IRSPACK:I 2022-06-22 23:46:08,655]\u001b[0m \u001b[34mparameter = {'alpha0': 0.08132588616866958, 'reg': 0.05981221901152557, 'n_components': 192}\u001b[0m\n"
     ]
    },
    {
     "data": {
      "text/html": [
       "\n",
       "<style>\n",
       "    /* Turns off some styling */\n",
       "    progress {\n",
       "        /* gets rid of default border in Firefox and Opera. */\n",
       "        border: none;\n",
       "        /* Needs to be in here for Safari polyfill so background images work as expected. */\n",
       "        background-size: auto;\n",
       "    }\n",
       "    .progress-bar-interrupted, .progress-bar-interrupted::-webkit-progress-bar {\n",
       "        background: #F44336;\n",
       "    }\n",
       "</style>\n"
      ],
      "text/plain": [
       "<IPython.core.display.HTML object>"
      ]
     },
     "metadata": {},
     "output_type": "display_data"
    },
    {
     "data": {
      "text/html": [
       "\n",
       "    <div>\n",
       "      <progress value='3' class='' max='16' style='width:300px; height:20px; vertical-align: middle;'></progress>\n",
       "      18.75% [3/16 00:00<00:02 ndcg@10=0.2900621236705932]\n",
       "    </div>\n",
       "    "
      ],
      "text/plain": [
       "<IPython.core.display.HTML object>"
      ]
     },
     "metadata": {},
     "output_type": "display_data"
    },
    {
     "name": "stderr",
     "output_type": "stream",
     "text": [
      "\u001b[32m[IRSPACK:I 2022-06-22 23:46:09,684]\u001b[0m \u001b[34mConfig 6 obtained the following scores: {'appeared_item': 1613.0, 'entropy': 6.712705114069464, 'gini_index': 0.8309050266044942, 'hit': 0.5498344370860927, 'map': 0.2504634447598023, 'n_items': 3704.0, 'ndcg': 0.3208774500769624, 'precision': 0.054983443708609275, 'recall': 0.5498344370860927, 'total_user': 6040.0, 'valid_user': 6040.0} within 1.030008 seconds.\u001b[0m\n",
      "\u001b[32m[I 2022-06-22 23:46:09,685]\u001b[0m Trial 6 finished with value: -0.3208774500769624 and parameters: {'alpha0': 0.08132588616866958, 'reg': 0.05981221901152557}. Best is trial 5 with value: -0.4530556358503701.\u001b[0m\n",
      "\u001b[32m[IRSPACK:I 2022-06-22 23:46:09,686]\u001b[0m \u001b[34mTrial 7:\u001b[0m\n",
      "\u001b[32m[IRSPACK:I 2022-06-22 23:46:09,687]\u001b[0m \u001b[34mparameter = {'alpha0': 0.004532487510990095, 'reg': 0.00018255254802399022, 'n_components': 192}\u001b[0m\n"
     ]
    },
    {
     "data": {
      "text/html": [
       "\n",
       "<style>\n",
       "    /* Turns off some styling */\n",
       "    progress {\n",
       "        /* gets rid of default border in Firefox and Opera. */\n",
       "        border: none;\n",
       "        /* Needs to be in here for Safari polyfill so background images work as expected. */\n",
       "        background-size: auto;\n",
       "    }\n",
       "    .progress-bar-interrupted, .progress-bar-interrupted::-webkit-progress-bar {\n",
       "        background: #F44336;\n",
       "    }\n",
       "</style>\n"
      ],
      "text/plain": [
       "<IPython.core.display.HTML object>"
      ]
     },
     "metadata": {},
     "output_type": "display_data"
    },
    {
     "data": {
      "text/html": [
       "\n",
       "    <div>\n",
       "      <progress value='11' class='' max='16' style='width:300px; height:20px; vertical-align: middle;'></progress>\n",
       "      68.75% [11/16 00:02<00:01 ndcg@10=0.39027340843999514]\n",
       "    </div>\n",
       "    "
      ],
      "text/plain": [
       "<IPython.core.display.HTML object>"
      ]
     },
     "metadata": {},
     "output_type": "display_data"
    },
    {
     "name": "stderr",
     "output_type": "stream",
     "text": [
      "\u001b[32m[IRSPACK:I 2022-06-22 23:46:12,420]\u001b[0m \u001b[34mConfig 7 obtained the following scores: {'appeared_item': 3072.0, 'entropy': 7.362555860465498, 'gini_index': 0.6767548685509133, 'hit': 0.6708609271523179, 'map': 0.3044518684957427, 'n_items': 3704.0, 'ndcg': 0.3908029101342159, 'precision': 0.06708609271523176, 'recall': 0.6708609271523179, 'total_user': 6040.0, 'valid_user': 6040.0} within 2.733843 seconds.\u001b[0m\n",
      "\u001b[32m[I 2022-06-22 23:46:12,421]\u001b[0m Trial 7 finished with value: -0.3908029101342159 and parameters: {'alpha0': 0.004532487510990095, 'reg': 0.00018255254802399022}. Best is trial 5 with value: -0.4530556358503701.\u001b[0m\n",
      "\u001b[32m[IRSPACK:I 2022-06-22 23:46:12,422]\u001b[0m \u001b[34mTrial 8:\u001b[0m\n",
      "\u001b[32m[IRSPACK:I 2022-06-22 23:46:12,422]\u001b[0m \u001b[34mparameter = {'alpha0': 0.00337388146101293, 'reg': 0.03146730406166007, 'n_components': 192}\u001b[0m\n"
     ]
    },
    {
     "data": {
      "text/html": [
       "\n",
       "<style>\n",
       "    /* Turns off some styling */\n",
       "    progress {\n",
       "        /* gets rid of default border in Firefox and Opera. */\n",
       "        border: none;\n",
       "        /* Needs to be in here for Safari polyfill so background images work as expected. */\n",
       "        background-size: auto;\n",
       "    }\n",
       "    .progress-bar-interrupted, .progress-bar-interrupted::-webkit-progress-bar {\n",
       "        background: #F44336;\n",
       "    }\n",
       "</style>\n"
      ],
      "text/plain": [
       "<IPython.core.display.HTML object>"
      ]
     },
     "metadata": {},
     "output_type": "display_data"
    },
    {
     "data": {
      "text/html": [
       "\n",
       "    <div>\n",
       "      <progress value='4' class='' max='16' style='width:300px; height:20px; vertical-align: middle;'></progress>\n",
       "      25.00% [4/16 00:00<00:02 ndcg@10=0.34650579274085425]\n",
       "    </div>\n",
       "    "
      ],
      "text/plain": [
       "<IPython.core.display.HTML object>"
      ]
     },
     "metadata": {},
     "output_type": "display_data"
    },
    {
     "name": "stderr",
     "output_type": "stream",
     "text": [
      "\u001b[32m[IRSPACK:I 2022-06-22 23:46:13,675]\u001b[0m \u001b[34mConfig 8 obtained the following scores: {'appeared_item': 2236.0, 'entropy': 7.1240369569845035, 'gini_index': 0.7504641214795531, 'hit': 0.6360927152317881, 'map': 0.2752159544833386, 'n_items': 3704.0, 'ndcg': 0.36006875882347117, 'precision': 0.06360927152317879, 'recall': 0.6360927152317881, 'total_user': 6040.0, 'valid_user': 6040.0} within 1.253492 seconds.\u001b[0m\n",
      "\u001b[32m[I 2022-06-22 23:46:13,676]\u001b[0m Trial 8 finished with value: -0.36006875882347117 and parameters: {'alpha0': 0.00337388146101293, 'reg': 0.03146730406166007}. Best is trial 5 with value: -0.4530556358503701.\u001b[0m\n",
      "\u001b[32m[IRSPACK:I 2022-06-22 23:46:13,677]\u001b[0m \u001b[34mTrial 9:\u001b[0m\n",
      "\u001b[32m[IRSPACK:I 2022-06-22 23:46:13,678]\u001b[0m \u001b[34mparameter = {'alpha0': 0.275623588145661, 'reg': 0.04074144654166233, 'n_components': 192}\u001b[0m\n"
     ]
    },
    {
     "data": {
      "text/html": [
       "\n",
       "<style>\n",
       "    /* Turns off some styling */\n",
       "    progress {\n",
       "        /* gets rid of default border in Firefox and Opera. */\n",
       "        border: none;\n",
       "        /* Needs to be in here for Safari polyfill so background images work as expected. */\n",
       "        background-size: auto;\n",
       "    }\n",
       "    .progress-bar-interrupted, .progress-bar-interrupted::-webkit-progress-bar {\n",
       "        background: #F44336;\n",
       "    }\n",
       "</style>\n"
      ],
      "text/plain": [
       "<IPython.core.display.HTML object>"
      ]
     },
     "metadata": {},
     "output_type": "display_data"
    },
    {
     "data": {
      "text/html": [
       "\n",
       "    <div>\n",
       "      <progress value='3' class='' max='16' style='width:300px; height:20px; vertical-align: middle;'></progress>\n",
       "      18.75% [3/16 00:00<00:02 ndcg@10=0.25604572622030486]\n",
       "    </div>\n",
       "    "
      ],
      "text/plain": [
       "<IPython.core.display.HTML object>"
      ]
     },
     "metadata": {},
     "output_type": "display_data"
    },
    {
     "name": "stderr",
     "output_type": "stream",
     "text": [
      "\u001b[32m[IRSPACK:I 2022-06-22 23:46:14,697]\u001b[0m \u001b[34mConfig 9 obtained the following scores: {'appeared_item': 1447.0, 'entropy': 6.558676432596514, 'gini_index': 0.853421994121265, 'hit': 0.5201986754966887, 'map': 0.23241005729002417, 'n_items': 3704.0, 'ndcg': 0.2999121010907339, 'precision': 0.05201986754966887, 'recall': 0.5201986754966887, 'total_user': 6040.0, 'valid_user': 6040.0} within 1.020121 seconds.\u001b[0m\n",
      "\u001b[32m[I 2022-06-22 23:46:14,698]\u001b[0m Trial 9 finished with value: -0.2999121010907339 and parameters: {'alpha0': 0.275623588145661, 'reg': 0.04074144654166233}. Best is trial 5 with value: -0.4530556358503701.\u001b[0m\n",
      "\u001b[32m[IRSPACK:I 2022-06-22 23:46:14,707]\u001b[0m \u001b[34mTrial 10:\u001b[0m\n",
      "\u001b[32m[IRSPACK:I 2022-06-22 23:46:14,708]\u001b[0m \u001b[34mparameter = {'alpha0': 0.792677049106184, 'reg': 0.0009401085893739514, 'n_components': 192}\u001b[0m\n"
     ]
    },
    {
     "data": {
      "text/html": [
       "\n",
       "<style>\n",
       "    /* Turns off some styling */\n",
       "    progress {\n",
       "        /* gets rid of default border in Firefox and Opera. */\n",
       "        border: none;\n",
       "        /* Needs to be in here for Safari polyfill so background images work as expected. */\n",
       "        background-size: auto;\n",
       "    }\n",
       "    .progress-bar-interrupted, .progress-bar-interrupted::-webkit-progress-bar {\n",
       "        background: #F44336;\n",
       "    }\n",
       "</style>\n"
      ],
      "text/plain": [
       "<IPython.core.display.HTML object>"
      ]
     },
     "metadata": {},
     "output_type": "display_data"
    },
    {
     "data": {
      "text/html": [
       "\n",
       "    <div>\n",
       "      <progress value='4' class='' max='16' style='width:300px; height:20px; vertical-align: middle;'></progress>\n",
       "      25.00% [4/16 00:00<00:02 ndcg@10=0.423719460231077]\n",
       "    </div>\n",
       "    "
      ],
      "text/plain": [
       "<IPython.core.display.HTML object>"
      ]
     },
     "metadata": {},
     "output_type": "display_data"
    },
    {
     "name": "stderr",
     "output_type": "stream",
     "text": [
      "\u001b[32m[IRSPACK:I 2022-06-22 23:46:15,962]\u001b[0m \u001b[34mConfig 10 obtained the following scores: {'appeared_item': 2495.0, 'entropy': 7.402767353617848, 'gini_index': 0.6641172510834895, 'hit': 0.7077814569536424, 'map': 0.340958950909282, 'n_items': 3704.0, 'ndcg': 0.42779489464224285, 'precision': 0.07077814569536424, 'recall': 0.7077814569536424, 'total_user': 6040.0, 'valid_user': 6040.0} within 1.262917 seconds.\u001b[0m\n",
      "\u001b[32m[I 2022-06-22 23:46:15,963]\u001b[0m Trial 10 finished with value: -0.42779489464224285 and parameters: {'alpha0': 0.792677049106184, 'reg': 0.0009401085893739514}. Best is trial 5 with value: -0.4530556358503701.\u001b[0m\n",
      "\u001b[32m[IRSPACK:I 2022-06-22 23:46:15,972]\u001b[0m \u001b[34mTrial 11:\u001b[0m\n",
      "\u001b[32m[IRSPACK:I 2022-06-22 23:46:15,972]\u001b[0m \u001b[34mparameter = {'alpha0': 0.25301961657215755, 'reg': 0.011538564243912185, 'n_components': 192}\u001b[0m\n"
     ]
    },
    {
     "data": {
      "text/html": [
       "\n",
       "<style>\n",
       "    /* Turns off some styling */\n",
       "    progress {\n",
       "        /* gets rid of default border in Firefox and Opera. */\n",
       "        border: none;\n",
       "        /* Needs to be in here for Safari polyfill so background images work as expected. */\n",
       "        background-size: auto;\n",
       "    }\n",
       "    .progress-bar-interrupted, .progress-bar-interrupted::-webkit-progress-bar {\n",
       "        background: #F44336;\n",
       "    }\n",
       "</style>\n"
      ],
      "text/plain": [
       "<IPython.core.display.HTML object>"
      ]
     },
     "metadata": {},
     "output_type": "display_data"
    },
    {
     "data": {
      "text/html": [
       "\n",
       "    <div>\n",
       "      <progress value='16' class='' max='16' style='width:300px; height:20px; vertical-align: middle;'></progress>\n",
       "      100.00% [16/16 00:03<00:00 ndcg@10=0.43809102611144507]\n",
       "    </div>\n",
       "    "
      ],
      "text/plain": [
       "<IPython.core.display.HTML object>"
      ]
     },
     "metadata": {},
     "output_type": "display_data"
    },
    {
     "name": "stderr",
     "output_type": "stream",
     "text": [
      "\u001b[32m[IRSPACK:I 2022-06-22 23:46:19,585]\u001b[0m \u001b[34mConfig 11 obtained the following scores: {'appeared_item': 2316.0, 'entropy': 7.210099707230893, 'gini_index': 0.7272621329366499, 'hit': 0.7294701986754967, 'map': 0.3480544386628824, 'n_items': 3704.0, 'ndcg': 0.43809102611144507, 'precision': 0.07294701986754966, 'recall': 0.7294701986754967, 'total_user': 6040.0, 'valid_user': 6040.0} within 3.620965 seconds.\u001b[0m\n",
      "\u001b[32m[I 2022-06-22 23:46:19,586]\u001b[0m Trial 11 finished with value: -0.43809102611144507 and parameters: {'alpha0': 0.25301961657215755, 'reg': 0.011538564243912185}. Best is trial 5 with value: -0.4530556358503701.\u001b[0m\n",
      "\u001b[32m[IRSPACK:I 2022-06-22 23:46:19,594]\u001b[0m \u001b[34mTrial 12:\u001b[0m\n",
      "\u001b[32m[IRSPACK:I 2022-06-22 23:46:19,595]\u001b[0m \u001b[34mparameter = {'alpha0': 0.013710672792096083, 'reg': 0.0020165153916841807, 'n_components': 192}\u001b[0m\n"
     ]
    },
    {
     "data": {
      "text/html": [
       "\n",
       "<style>\n",
       "    /* Turns off some styling */\n",
       "    progress {\n",
       "        /* gets rid of default border in Firefox and Opera. */\n",
       "        border: none;\n",
       "        /* Needs to be in here for Safari polyfill so background images work as expected. */\n",
       "        background-size: auto;\n",
       "    }\n",
       "    .progress-bar-interrupted, .progress-bar-interrupted::-webkit-progress-bar {\n",
       "        background: #F44336;\n",
       "    }\n",
       "</style>\n"
      ],
      "text/plain": [
       "<IPython.core.display.HTML object>"
      ]
     },
     "metadata": {},
     "output_type": "display_data"
    },
    {
     "data": {
      "text/html": [
       "\n",
       "    <div>\n",
       "      <progress value='13' class='' max='16' style='width:300px; height:20px; vertical-align: middle;'></progress>\n",
       "      81.25% [13/16 00:02<00:00 ndcg@10=0.41236172566876994]\n",
       "    </div>\n",
       "    "
      ],
      "text/plain": [
       "<IPython.core.display.HTML object>"
      ]
     },
     "metadata": {},
     "output_type": "display_data"
    },
    {
     "name": "stderr",
     "output_type": "stream",
     "text": [
      "\u001b[32m[IRSPACK:I 2022-06-22 23:46:22,762]\u001b[0m \u001b[34mConfig 12 obtained the following scores: {'appeared_item': 3058.0, 'entropy': 7.495189607920478, 'gini_index': 0.6338082777881081, 'hit': 0.6897350993377483, 'map': 0.32749218175128775, 'n_items': 3704.0, 'ndcg': 0.41328704730623056, 'precision': 0.06897350993377484, 'recall': 0.6897350993377483, 'total_user': 6040.0, 'valid_user': 6040.0} within 3.175249 seconds.\u001b[0m\n",
      "\u001b[32m[I 2022-06-22 23:46:22,763]\u001b[0m Trial 12 finished with value: -0.41328704730623056 and parameters: {'alpha0': 0.013710672792096083, 'reg': 0.0020165153916841807}. Best is trial 5 with value: -0.4530556358503701.\u001b[0m\n",
      "\u001b[32m[IRSPACK:I 2022-06-22 23:46:22,772]\u001b[0m \u001b[34mTrial 13:\u001b[0m\n",
      "\u001b[32m[IRSPACK:I 2022-06-22 23:46:22,772]\u001b[0m \u001b[34mparameter = {'alpha0': 0.2061979828229528, 'reg': 0.011630488356624703, 'n_components': 192}\u001b[0m\n"
     ]
    },
    {
     "data": {
      "text/html": [
       "\n",
       "<style>\n",
       "    /* Turns off some styling */\n",
       "    progress {\n",
       "        /* gets rid of default border in Firefox and Opera. */\n",
       "        border: none;\n",
       "        /* Needs to be in here for Safari polyfill so background images work as expected. */\n",
       "        background-size: auto;\n",
       "    }\n",
       "    .progress-bar-interrupted, .progress-bar-interrupted::-webkit-progress-bar {\n",
       "        background: #F44336;\n",
       "    }\n",
       "</style>\n"
      ],
      "text/plain": [
       "<IPython.core.display.HTML object>"
      ]
     },
     "metadata": {},
     "output_type": "display_data"
    },
    {
     "data": {
      "text/html": [
       "\n",
       "    <div>\n",
       "      <progress value='16' class='' max='16' style='width:300px; height:20px; vertical-align: middle;'></progress>\n",
       "      100.00% [16/16 00:03<00:00 ndcg@10=0.44361991478320334]\n",
       "    </div>\n",
       "    "
      ],
      "text/plain": [
       "<IPython.core.display.HTML object>"
      ]
     },
     "metadata": {},
     "output_type": "display_data"
    },
    {
     "name": "stderr",
     "output_type": "stream",
     "text": [
      "\u001b[32m[IRSPACK:I 2022-06-22 23:46:26,390]\u001b[0m \u001b[34mConfig 13 obtained the following scores: {'appeared_item': 2362.0, 'entropy': 7.2345484556464825, 'gini_index': 0.7203482721382289, 'hit': 0.7364238410596027, 'map': 0.35297842426153686, 'n_items': 3704.0, 'ndcg': 0.44361991478320334, 'precision': 0.07364238410596026, 'recall': 0.7364238410596027, 'total_user': 6040.0, 'valid_user': 6040.0} within 3.626346 seconds.\u001b[0m\n",
      "\u001b[32m[I 2022-06-22 23:46:26,391]\u001b[0m Trial 13 finished with value: -0.44361991478320334 and parameters: {'alpha0': 0.2061979828229528, 'reg': 0.011630488356624703}. Best is trial 5 with value: -0.4530556358503701.\u001b[0m\n",
      "\u001b[32m[IRSPACK:I 2022-06-22 23:46:26,400]\u001b[0m \u001b[34mTrial 14:\u001b[0m\n",
      "\u001b[32m[IRSPACK:I 2022-06-22 23:46:26,401]\u001b[0m \u001b[34mparameter = {'alpha0': 0.015011332334481473, 'reg': 0.0003458545483979611, 'n_components': 192}\u001b[0m\n"
     ]
    },
    {
     "data": {
      "text/html": [
       "\n",
       "<style>\n",
       "    /* Turns off some styling */\n",
       "    progress {\n",
       "        /* gets rid of default border in Firefox and Opera. */\n",
       "        border: none;\n",
       "        /* Needs to be in here for Safari polyfill so background images work as expected. */\n",
       "        background-size: auto;\n",
       "    }\n",
       "    .progress-bar-interrupted, .progress-bar-interrupted::-webkit-progress-bar {\n",
       "        background: #F44336;\n",
       "    }\n",
       "</style>\n"
      ],
      "text/plain": [
       "<IPython.core.display.HTML object>"
      ]
     },
     "metadata": {},
     "output_type": "display_data"
    },
    {
     "data": {
      "text/html": [
       "\n",
       "    <div>\n",
       "      <progress value='6' class='' max='16' style='width:300px; height:20px; vertical-align: middle;'></progress>\n",
       "      37.50% [6/16 00:01<00:02 ndcg@10=0.40598006378234525]\n",
       "    </div>\n",
       "    "
      ],
      "text/plain": [
       "<IPython.core.display.HTML object>"
      ]
     },
     "metadata": {},
     "output_type": "display_data"
    },
    {
     "name": "stderr",
     "output_type": "stream",
     "text": [
      "\u001b[32m[IRSPACK:I 2022-06-22 23:46:28,071]\u001b[0m \u001b[34mConfig 14 obtained the following scores: {'appeared_item': 3186.0, 'entropy': 7.499042040115251, 'gini_index': 0.6310606396521391, 'hit': 0.6890728476821192, 'map': 0.32312138652370426, 'n_items': 3704.0, 'ndcg': 0.40960055744631746, 'precision': 0.06890728476821192, 'recall': 0.6890728476821192, 'total_user': 6040.0, 'valid_user': 6040.0} within 1.678674 seconds.\u001b[0m\n",
      "\u001b[32m[I 2022-06-22 23:46:28,072]\u001b[0m Trial 14 finished with value: -0.40960055744631746 and parameters: {'alpha0': 0.015011332334481473, 'reg': 0.0003458545483979611}. Best is trial 5 with value: -0.4530556358503701.\u001b[0m\n",
      "\u001b[32m[IRSPACK:I 2022-06-22 23:46:28,081]\u001b[0m \u001b[34mTrial 15:\u001b[0m\n",
      "\u001b[32m[IRSPACK:I 2022-06-22 23:46:28,081]\u001b[0m \u001b[34mparameter = {'alpha0': 0.137936952580292, 'reg': 0.004457481950723314, 'n_components': 192}\u001b[0m\n"
     ]
    },
    {
     "data": {
      "text/html": [
       "\n",
       "<style>\n",
       "    /* Turns off some styling */\n",
       "    progress {\n",
       "        /* gets rid of default border in Firefox and Opera. */\n",
       "        border: none;\n",
       "        /* Needs to be in here for Safari polyfill so background images work as expected. */\n",
       "        background-size: auto;\n",
       "    }\n",
       "    .progress-bar-interrupted, .progress-bar-interrupted::-webkit-progress-bar {\n",
       "        background: #F44336;\n",
       "    }\n",
       "</style>\n"
      ],
      "text/plain": [
       "<IPython.core.display.HTML object>"
      ]
     },
     "metadata": {},
     "output_type": "display_data"
    },
    {
     "data": {
      "text/html": [
       "\n",
       "    <div>\n",
       "      <progress value='6' class='' max='16' style='width:300px; height:20px; vertical-align: middle;'></progress>\n",
       "      37.50% [6/16 00:01<00:02 ndcg@10=0.44641390850009327]\n",
       "    </div>\n",
       "    "
      ],
      "text/plain": [
       "<IPython.core.display.HTML object>"
      ]
     },
     "metadata": {},
     "output_type": "display_data"
    },
    {
     "name": "stderr",
     "output_type": "stream",
     "text": [
      "\u001b[32m[IRSPACK:I 2022-06-22 23:46:29,748]\u001b[0m \u001b[34mConfig 15 obtained the following scores: {'appeared_item': 2757.0, 'entropy': 7.479279546024354, 'gini_index': 0.6386877619326877, 'hit': 0.7322847682119206, 'map': 0.35992694207926007, 'n_items': 3704.0, 'ndcg': 0.44819337586214303, 'precision': 0.07322847682119206, 'recall': 0.7322847682119206, 'total_user': 6040.0, 'valid_user': 6040.0} within 1.675609 seconds.\u001b[0m\n",
      "\u001b[32m[I 2022-06-22 23:46:29,750]\u001b[0m Trial 15 finished with value: -0.44819337586214303 and parameters: {'alpha0': 0.137936952580292, 'reg': 0.004457481950723314}. Best is trial 5 with value: -0.4530556358503701.\u001b[0m\n",
      "\u001b[32m[IRSPACK:I 2022-06-22 23:46:29,758]\u001b[0m \u001b[34mTrial 16:\u001b[0m\n",
      "\u001b[32m[IRSPACK:I 2022-06-22 23:46:29,759]\u001b[0m \u001b[34mparameter = {'alpha0': 0.14956265314271414, 'reg': 0.0037663172601570976, 'n_components': 192}\u001b[0m\n"
     ]
    },
    {
     "data": {
      "text/html": [
       "\n",
       "<style>\n",
       "    /* Turns off some styling */\n",
       "    progress {\n",
       "        /* gets rid of default border in Firefox and Opera. */\n",
       "        border: none;\n",
       "        /* Needs to be in here for Safari polyfill so background images work as expected. */\n",
       "        background-size: auto;\n",
       "    }\n",
       "    .progress-bar-interrupted, .progress-bar-interrupted::-webkit-progress-bar {\n",
       "        background: #F44336;\n",
       "    }\n",
       "</style>\n"
      ],
      "text/plain": [
       "<IPython.core.display.HTML object>"
      ]
     },
     "metadata": {},
     "output_type": "display_data"
    },
    {
     "data": {
      "text/html": [
       "\n",
       "    <div>\n",
       "      <progress value='7' class='' max='16' style='width:300px; height:20px; vertical-align: middle;'></progress>\n",
       "      43.75% [7/16 00:01<00:01 ndcg@10=0.44212572523124216]\n",
       "    </div>\n",
       "    "
      ],
      "text/plain": [
       "<IPython.core.display.HTML object>"
      ]
     },
     "metadata": {},
     "output_type": "display_data"
    },
    {
     "name": "stderr",
     "output_type": "stream",
     "text": [
      "\u001b[32m[IRSPACK:I 2022-06-22 23:46:31,646]\u001b[0m \u001b[34mConfig 16 obtained the following scores: {'appeared_item': 2823.0, 'entropy': 7.516373485282082, 'gini_index': 0.6241429258507002, 'hit': 0.7220198675496688, 'map': 0.35814753495217055, 'n_items': 3704.0, 'ndcg': 0.4443966867262894, 'precision': 0.0722019867549669, 'recall': 0.7220198675496688, 'total_user': 6040.0, 'valid_user': 6040.0} within 1.895655 seconds.\u001b[0m\n",
      "\u001b[32m[I 2022-06-22 23:46:31,647]\u001b[0m Trial 16 finished with value: -0.4443966867262894 and parameters: {'alpha0': 0.14956265314271414, 'reg': 0.0037663172601570976}. Best is trial 5 with value: -0.4530556358503701.\u001b[0m\n",
      "\u001b[32m[IRSPACK:I 2022-06-22 23:46:31,656]\u001b[0m \u001b[34mTrial 17:\u001b[0m\n",
      "\u001b[32m[IRSPACK:I 2022-06-22 23:46:31,657]\u001b[0m \u001b[34mparameter = {'alpha0': 0.42966896473019234, 'reg': 0.0008350074565707725, 'n_components': 192}\u001b[0m\n"
     ]
    },
    {
     "data": {
      "text/html": [
       "\n",
       "<style>\n",
       "    /* Turns off some styling */\n",
       "    progress {\n",
       "        /* gets rid of default border in Firefox and Opera. */\n",
       "        border: none;\n",
       "        /* Needs to be in here for Safari polyfill so background images work as expected. */\n",
       "        background-size: auto;\n",
       "    }\n",
       "    .progress-bar-interrupted, .progress-bar-interrupted::-webkit-progress-bar {\n",
       "        background: #F44336;\n",
       "    }\n",
       "</style>\n"
      ],
      "text/plain": [
       "<IPython.core.display.HTML object>"
      ]
     },
     "metadata": {},
     "output_type": "display_data"
    },
    {
     "data": {
      "text/html": [
       "\n",
       "    <div>\n",
       "      <progress value='4' class='' max='16' style='width:300px; height:20px; vertical-align: middle;'></progress>\n",
       "      25.00% [4/16 00:00<00:02 ndcg@10=0.41858124540381025]\n",
       "    </div>\n",
       "    "
      ],
      "text/plain": [
       "<IPython.core.display.HTML object>"
      ]
     },
     "metadata": {},
     "output_type": "display_data"
    },
    {
     "name": "stderr",
     "output_type": "stream",
     "text": [
      "\u001b[32m[IRSPACK:I 2022-06-22 23:46:32,899]\u001b[0m \u001b[34mConfig 17 obtained the following scores: {'appeared_item': 2641.0, 'entropy': 7.479654057166589, 'gini_index': 0.6361199633830618, 'hit': 0.6947019867549669, 'map': 0.33533519920109317, 'n_items': 3704.0, 'ndcg': 0.4203401814473188, 'precision': 0.06947019867549668, 'recall': 0.6947019867549669, 'total_user': 6040.0, 'valid_user': 6040.0} within 1.250589 seconds.\u001b[0m\n",
      "\u001b[32m[I 2022-06-22 23:46:32,900]\u001b[0m Trial 17 finished with value: -0.4203401814473188 and parameters: {'alpha0': 0.42966896473019234, 'reg': 0.0008350074565707725}. Best is trial 5 with value: -0.4530556358503701.\u001b[0m\n",
      "\u001b[32m[IRSPACK:I 2022-06-22 23:46:32,909]\u001b[0m \u001b[34mTrial 18:\u001b[0m\n",
      "\u001b[32m[IRSPACK:I 2022-06-22 23:46:32,909]\u001b[0m \u001b[34mparameter = {'alpha0': 0.45479091981411374, 'reg': 0.0039722363409349926, 'n_components': 192}\u001b[0m\n"
     ]
    },
    {
     "data": {
      "text/html": [
       "\n",
       "<style>\n",
       "    /* Turns off some styling */\n",
       "    progress {\n",
       "        /* gets rid of default border in Firefox and Opera. */\n",
       "        border: none;\n",
       "        /* Needs to be in here for Safari polyfill so background images work as expected. */\n",
       "        background-size: auto;\n",
       "    }\n",
       "    .progress-bar-interrupted, .progress-bar-interrupted::-webkit-progress-bar {\n",
       "        background: #F44336;\n",
       "    }\n",
       "</style>\n"
      ],
      "text/plain": [
       "<IPython.core.display.HTML object>"
      ]
     },
     "metadata": {},
     "output_type": "display_data"
    },
    {
     "data": {
      "text/html": [
       "\n",
       "    <div>\n",
       "      <progress value='7' class='' max='16' style='width:300px; height:20px; vertical-align: middle;'></progress>\n",
       "      43.75% [7/16 00:01<00:01 ndcg@10=0.45647949852260195]\n",
       "    </div>\n",
       "    "
      ],
      "text/plain": [
       "<IPython.core.display.HTML object>"
      ]
     },
     "metadata": {},
     "output_type": "display_data"
    },
    {
     "name": "stderr",
     "output_type": "stream",
     "text": [
      "\u001b[32m[IRSPACK:I 2022-06-22 23:46:34,800]\u001b[0m \u001b[34mConfig 18 obtained the following scores: {'appeared_item': 2613.0, 'entropy': 7.425374040092893, 'gini_index': 0.6579020175074736, 'hit': 0.7433774834437086, 'map': 0.3680246110585514, 'n_items': 3704.0, 'ndcg': 0.4570230124301442, 'precision': 0.07433774834437086, 'recall': 0.7433774834437086, 'total_user': 6040.0, 'valid_user': 6040.0} within 1.899032 seconds.\u001b[0m\n",
      "\u001b[32m[I 2022-06-22 23:46:34,801]\u001b[0m Trial 18 finished with value: -0.4570230124301442 and parameters: {'alpha0': 0.45479091981411374, 'reg': 0.0039722363409349926}. Best is trial 18 with value: -0.4570230124301442.\u001b[0m\n",
      "\u001b[32m[IRSPACK:I 2022-06-22 23:46:34,810]\u001b[0m \u001b[34mTrial 19:\u001b[0m\n",
      "\u001b[32m[IRSPACK:I 2022-06-22 23:46:34,811]\u001b[0m \u001b[34mparameter = {'alpha0': 0.46759285051033245, 'reg': 0.00047509454855396534, 'n_components': 192}\u001b[0m\n"
     ]
    },
    {
     "data": {
      "text/html": [
       "\n",
       "<style>\n",
       "    /* Turns off some styling */\n",
       "    progress {\n",
       "        /* gets rid of default border in Firefox and Opera. */\n",
       "        border: none;\n",
       "        /* Needs to be in here for Safari polyfill so background images work as expected. */\n",
       "        background-size: auto;\n",
       "    }\n",
       "    .progress-bar-interrupted, .progress-bar-interrupted::-webkit-progress-bar {\n",
       "        background: #F44336;\n",
       "    }\n",
       "</style>\n"
      ],
      "text/plain": [
       "<IPython.core.display.HTML object>"
      ]
     },
     "metadata": {},
     "output_type": "display_data"
    },
    {
     "data": {
      "text/html": [
       "\n",
       "    <div>\n",
       "      <progress value='9' class='' max='16' style='width:300px; height:20px; vertical-align: middle;'></progress>\n",
       "      56.25% [9/16 00:01<00:01 ndcg@10=0.420099442410091]\n",
       "    </div>\n",
       "    "
      ],
      "text/plain": [
       "<IPython.core.display.HTML object>"
      ]
     },
     "metadata": {},
     "output_type": "display_data"
    },
    {
     "name": "stderr",
     "output_type": "stream",
     "text": [
      "\u001b[32m[IRSPACK:I 2022-06-22 23:46:37,109]\u001b[0m \u001b[34mConfig 19 obtained the following scores: {'appeared_item': 2814.0, 'entropy': 7.587260538748303, 'gini_index': 0.590677547451833, 'hit': 0.6756622516556291, 'map': 0.34078616104278364, 'n_items': 3704.0, 'ndcg': 0.42009973652220556, 'precision': 0.06756622516556292, 'recall': 0.6756622516556291, 'total_user': 6040.0, 'valid_user': 6040.0} within 2.307372 seconds.\u001b[0m\n",
      "\u001b[32m[I 2022-06-22 23:46:37,111]\u001b[0m Trial 19 finished with value: -0.42009973652220556 and parameters: {'alpha0': 0.46759285051033245, 'reg': 0.00047509454855396534}. Best is trial 18 with value: -0.4570230124301442.\u001b[0m\n",
      "\u001b[32m[IRSPACK:I 2022-06-22 23:46:37,119]\u001b[0m \u001b[34mTrial 20:\u001b[0m\n",
      "\u001b[32m[IRSPACK:I 2022-06-22 23:46:37,120]\u001b[0m \u001b[34mparameter = {'alpha0': 0.4558956852442172, 'reg': 0.001991674669525565, 'n_components': 192}\u001b[0m\n"
     ]
    },
    {
     "data": {
      "text/html": [
       "\n",
       "<style>\n",
       "    /* Turns off some styling */\n",
       "    progress {\n",
       "        /* gets rid of default border in Firefox and Opera. */\n",
       "        border: none;\n",
       "        /* Needs to be in here for Safari polyfill so background images work as expected. */\n",
       "        background-size: auto;\n",
       "    }\n",
       "    .progress-bar-interrupted, .progress-bar-interrupted::-webkit-progress-bar {\n",
       "        background: #F44336;\n",
       "    }\n",
       "</style>\n"
      ],
      "text/plain": [
       "<IPython.core.display.HTML object>"
      ]
     },
     "metadata": {},
     "output_type": "display_data"
    },
    {
     "data": {
      "text/html": [
       "\n",
       "    <div>\n",
       "      <progress value='5' class='' max='16' style='width:300px; height:20px; vertical-align: middle;'></progress>\n",
       "      31.25% [5/16 00:01<00:02 ndcg@10=0.4369361623824694]\n",
       "    </div>\n",
       "    "
      ],
      "text/plain": [
       "<IPython.core.display.HTML object>"
      ]
     },
     "metadata": {},
     "output_type": "display_data"
    },
    {
     "name": "stderr",
     "output_type": "stream",
     "text": [
      "\u001b[32m[IRSPACK:I 2022-06-22 23:46:38,594]\u001b[0m \u001b[34mConfig 20 obtained the following scores: {'appeared_item': 2620.0, 'entropy': 7.445353954120603, 'gini_index': 0.6499649653855506, 'hit': 0.7187086092715231, 'map': 0.3547492247450856, 'n_items': 3704.0, 'ndcg': 0.441069282151397, 'precision': 0.07187086092715231, 'recall': 0.7187086092715231, 'total_user': 6040.0, 'valid_user': 6040.0} within 1.482545 seconds.\u001b[0m\n",
      "\u001b[32m[I 2022-06-22 23:46:38,595]\u001b[0m Trial 20 finished with value: -0.441069282151397 and parameters: {'alpha0': 0.4558956852442172, 'reg': 0.001991674669525565}. Best is trial 18 with value: -0.4570230124301442.\u001b[0m\n",
      "\u001b[32m[IRSPACK:I 2022-06-22 23:46:38,604]\u001b[0m \u001b[34mTrial 21:\u001b[0m\n",
      "\u001b[32m[IRSPACK:I 2022-06-22 23:46:38,605]\u001b[0m \u001b[34mparameter = {'alpha0': 0.1629876511330774, 'reg': 0.005493045340935067, 'n_components': 192}\u001b[0m\n"
     ]
    },
    {
     "data": {
      "text/html": [
       "\n",
       "<style>\n",
       "    /* Turns off some styling */\n",
       "    progress {\n",
       "        /* gets rid of default border in Firefox and Opera. */\n",
       "        border: none;\n",
       "        /* Needs to be in here for Safari polyfill so background images work as expected. */\n",
       "        background-size: auto;\n",
       "    }\n",
       "    .progress-bar-interrupted, .progress-bar-interrupted::-webkit-progress-bar {\n",
       "        background: #F44336;\n",
       "    }\n",
       "</style>\n"
      ],
      "text/plain": [
       "<IPython.core.display.HTML object>"
      ]
     },
     "metadata": {},
     "output_type": "display_data"
    },
    {
     "data": {
      "text/html": [
       "\n",
       "    <div>\n",
       "      <progress value='6' class='' max='16' style='width:300px; height:20px; vertical-align: middle;'></progress>\n",
       "      37.50% [6/16 00:01<00:02 ndcg@10=0.45415597487082215]\n",
       "    </div>\n",
       "    "
      ],
      "text/plain": [
       "<IPython.core.display.HTML object>"
      ]
     },
     "metadata": {},
     "output_type": "display_data"
    },
    {
     "name": "stderr",
     "output_type": "stream",
     "text": [
      "\u001b[32m[IRSPACK:I 2022-06-22 23:46:40,278]\u001b[0m \u001b[34mConfig 21 obtained the following scores: {'appeared_item': 2675.0, 'entropy': 7.428733192288843, 'gini_index': 0.6572720470441835, 'hit': 0.7425496688741722, 'map': 0.3647885787869232, 'n_items': 3704.0, 'ndcg': 0.4543517726840219, 'precision': 0.07425496688741724, 'recall': 0.7425496688741722, 'total_user': 6040.0, 'valid_user': 6040.0} within 1.681849 seconds.\u001b[0m\n",
      "\u001b[32m[I 2022-06-22 23:46:40,279]\u001b[0m Trial 21 finished with value: -0.4543517726840219 and parameters: {'alpha0': 0.1629876511330774, 'reg': 0.005493045340935067}. Best is trial 18 with value: -0.4570230124301442.\u001b[0m\n",
      "\u001b[32m[IRSPACK:I 2022-06-22 23:46:40,288]\u001b[0m \u001b[34mTrial 22:\u001b[0m\n",
      "\u001b[32m[IRSPACK:I 2022-06-22 23:46:40,289]\u001b[0m \u001b[34mparameter = {'alpha0': 0.36076680149701446, 'reg': 0.005600608476374913, 'n_components': 192}\u001b[0m\n"
     ]
    },
    {
     "data": {
      "text/html": [
       "\n",
       "<style>\n",
       "    /* Turns off some styling */\n",
       "    progress {\n",
       "        /* gets rid of default border in Firefox and Opera. */\n",
       "        border: none;\n",
       "        /* Needs to be in here for Safari polyfill so background images work as expected. */\n",
       "        background-size: auto;\n",
       "    }\n",
       "    .progress-bar-interrupted, .progress-bar-interrupted::-webkit-progress-bar {\n",
       "        background: #F44336;\n",
       "    }\n",
       "</style>\n"
      ],
      "text/plain": [
       "<IPython.core.display.HTML object>"
      ]
     },
     "metadata": {},
     "output_type": "display_data"
    },
    {
     "data": {
      "text/html": [
       "\n",
       "    <div>\n",
       "      <progress value='0' class='' max='16' style='width:300px; height:20px; vertical-align: middle;'></progress>\n",
       "      0.00% [0/16 00:00<00:00]\n",
       "    </div>\n",
       "    "
      ],
      "text/plain": [
       "<IPython.core.display.HTML object>"
      ]
     },
     "metadata": {},
     "output_type": "display_data"
    },
    {
     "name": "stderr",
     "output_type": "stream",
     "text": [
      "\u001b[32m[I 2022-06-22 23:46:40,559]\u001b[0m Trial 22 pruned. \u001b[0m\n",
      "\u001b[32m[IRSPACK:I 2022-06-22 23:46:40,567]\u001b[0m \u001b[34mTrial 23:\u001b[0m\n",
      "\u001b[32m[IRSPACK:I 2022-06-22 23:46:40,568]\u001b[0m \u001b[34mparameter = {'alpha0': 0.898538144392291, 'reg': 0.01747251037794465, 'n_components': 192}\u001b[0m\n"
     ]
    },
    {
     "data": {
      "text/html": [
       "\n",
       "<style>\n",
       "    /* Turns off some styling */\n",
       "    progress {\n",
       "        /* gets rid of default border in Firefox and Opera. */\n",
       "        border: none;\n",
       "        /* Needs to be in here for Safari polyfill so background images work as expected. */\n",
       "        background-size: auto;\n",
       "    }\n",
       "    .progress-bar-interrupted, .progress-bar-interrupted::-webkit-progress-bar {\n",
       "        background: #F44336;\n",
       "    }\n",
       "</style>\n"
      ],
      "text/plain": [
       "<IPython.core.display.HTML object>"
      ]
     },
     "metadata": {},
     "output_type": "display_data"
    },
    {
     "data": {
      "text/html": [
       "\n",
       "    <div>\n",
       "      <progress value='0' class='' max='16' style='width:300px; height:20px; vertical-align: middle;'></progress>\n",
       "      0.00% [0/16 00:00<00:00]\n",
       "    </div>\n",
       "    "
      ],
      "text/plain": [
       "<IPython.core.display.HTML object>"
      ]
     },
     "metadata": {},
     "output_type": "display_data"
    },
    {
     "name": "stderr",
     "output_type": "stream",
     "text": [
      "\u001b[32m[I 2022-06-22 23:46:40,843]\u001b[0m Trial 23 pruned. \u001b[0m\n",
      "\u001b[32m[IRSPACK:I 2022-06-22 23:46:40,852]\u001b[0m \u001b[34mTrial 24:\u001b[0m\n",
      "\u001b[32m[IRSPACK:I 2022-06-22 23:46:40,852]\u001b[0m \u001b[34mparameter = {'alpha0': 0.1505611576385428, 'reg': 0.002579617912600464, 'n_components': 192}\u001b[0m\n"
     ]
    },
    {
     "data": {
      "text/html": [
       "\n",
       "<style>\n",
       "    /* Turns off some styling */\n",
       "    progress {\n",
       "        /* gets rid of default border in Firefox and Opera. */\n",
       "        border: none;\n",
       "        /* Needs to be in here for Safari polyfill so background images work as expected. */\n",
       "        background-size: auto;\n",
       "    }\n",
       "    .progress-bar-interrupted, .progress-bar-interrupted::-webkit-progress-bar {\n",
       "        background: #F44336;\n",
       "    }\n",
       "</style>\n"
      ],
      "text/plain": [
       "<IPython.core.display.HTML object>"
      ]
     },
     "metadata": {},
     "output_type": "display_data"
    },
    {
     "data": {
      "text/html": [
       "\n",
       "    <div>\n",
       "      <progress value='4' class='' max='16' style='width:300px; height:20px; vertical-align: middle;'></progress>\n",
       "      25.00% [4/16 00:00<00:02 ndcg@10=0.43394552972928296]\n",
       "    </div>\n",
       "    "
      ],
      "text/plain": [
       "<IPython.core.display.HTML object>"
      ]
     },
     "metadata": {},
     "output_type": "display_data"
    },
    {
     "name": "stderr",
     "output_type": "stream",
     "text": [
      "\u001b[32m[I 2022-06-22 23:46:41,994]\u001b[0m Trial 24 pruned. \u001b[0m\n",
      "\u001b[32m[IRSPACK:I 2022-06-22 23:46:42,002]\u001b[0m \u001b[34mTrial 25:\u001b[0m\n",
      "\u001b[32m[IRSPACK:I 2022-06-22 23:46:42,003]\u001b[0m \u001b[34mparameter = {'alpha0': 0.5819676601406808, 'reg': 0.006455498633549499, 'n_components': 192}\u001b[0m\n"
     ]
    },
    {
     "data": {
      "text/html": [
       "\n",
       "<style>\n",
       "    /* Turns off some styling */\n",
       "    progress {\n",
       "        /* gets rid of default border in Firefox and Opera. */\n",
       "        border: none;\n",
       "        /* Needs to be in here for Safari polyfill so background images work as expected. */\n",
       "        background-size: auto;\n",
       "    }\n",
       "    .progress-bar-interrupted, .progress-bar-interrupted::-webkit-progress-bar {\n",
       "        background: #F44336;\n",
       "    }\n",
       "</style>\n"
      ],
      "text/plain": [
       "<IPython.core.display.HTML object>"
      ]
     },
     "metadata": {},
     "output_type": "display_data"
    },
    {
     "data": {
      "text/html": [
       "\n",
       "    <div>\n",
       "      <progress value='0' class='' max='16' style='width:300px; height:20px; vertical-align: middle;'></progress>\n",
       "      0.00% [0/16 00:00<00:00]\n",
       "    </div>\n",
       "    "
      ],
      "text/plain": [
       "<IPython.core.display.HTML object>"
      ]
     },
     "metadata": {},
     "output_type": "display_data"
    },
    {
     "name": "stderr",
     "output_type": "stream",
     "text": [
      "\u001b[32m[I 2022-06-22 23:46:42,279]\u001b[0m Trial 25 pruned. \u001b[0m\n",
      "\u001b[32m[IRSPACK:I 2022-06-22 23:46:42,288]\u001b[0m \u001b[34mTrial 26:\u001b[0m\n",
      "\u001b[32m[IRSPACK:I 2022-06-22 23:46:42,289]\u001b[0m \u001b[34mparameter = {'alpha0': 0.22229914898258338, 'reg': 0.020396779960620788, 'n_components': 192}\u001b[0m\n"
     ]
    },
    {
     "data": {
      "text/html": [
       "\n",
       "<style>\n",
       "    /* Turns off some styling */\n",
       "    progress {\n",
       "        /* gets rid of default border in Firefox and Opera. */\n",
       "        border: none;\n",
       "        /* Needs to be in here for Safari polyfill so background images work as expected. */\n",
       "        background-size: auto;\n",
       "    }\n",
       "    .progress-bar-interrupted, .progress-bar-interrupted::-webkit-progress-bar {\n",
       "        background: #F44336;\n",
       "    }\n",
       "</style>\n"
      ],
      "text/plain": [
       "<IPython.core.display.HTML object>"
      ]
     },
     "metadata": {},
     "output_type": "display_data"
    },
    {
     "data": {
      "text/html": [
       "\n",
       "    <div>\n",
       "      <progress value='0' class='' max='16' style='width:300px; height:20px; vertical-align: middle;'></progress>\n",
       "      0.00% [0/16 00:00<00:00]\n",
       "    </div>\n",
       "    "
      ],
      "text/plain": [
       "<IPython.core.display.HTML object>"
      ]
     },
     "metadata": {},
     "output_type": "display_data"
    },
    {
     "name": "stderr",
     "output_type": "stream",
     "text": [
      "\u001b[32m[I 2022-06-22 23:46:42,565]\u001b[0m Trial 26 pruned. \u001b[0m\n",
      "\u001b[32m[IRSPACK:I 2022-06-22 23:46:42,574]\u001b[0m \u001b[34mTrial 27:\u001b[0m\n",
      "\u001b[32m[IRSPACK:I 2022-06-22 23:46:42,574]\u001b[0m \u001b[34mparameter = {'alpha0': 0.31882022307253666, 'reg': 0.0011965229649556132, 'n_components': 192}\u001b[0m\n"
     ]
    },
    {
     "data": {
      "text/html": [
       "\n",
       "<style>\n",
       "    /* Turns off some styling */\n",
       "    progress {\n",
       "        /* gets rid of default border in Firefox and Opera. */\n",
       "        border: none;\n",
       "        /* Needs to be in here for Safari polyfill so background images work as expected. */\n",
       "        background-size: auto;\n",
       "    }\n",
       "    .progress-bar-interrupted, .progress-bar-interrupted::-webkit-progress-bar {\n",
       "        background: #F44336;\n",
       "    }\n",
       "</style>\n"
      ],
      "text/plain": [
       "<IPython.core.display.HTML object>"
      ]
     },
     "metadata": {},
     "output_type": "display_data"
    },
    {
     "data": {
      "text/html": [
       "\n",
       "    <div>\n",
       "      <progress value='3' class='' max='16' style='width:300px; height:20px; vertical-align: middle;'></progress>\n",
       "      18.75% [3/16 00:00<00:02 ndcg@10=0.4223489340836152]\n",
       "    </div>\n",
       "    "
      ],
      "text/plain": [
       "<IPython.core.display.HTML object>"
      ]
     },
     "metadata": {},
     "output_type": "display_data"
    },
    {
     "name": "stderr",
     "output_type": "stream",
     "text": [
      "\u001b[32m[I 2022-06-22 23:46:43,496]\u001b[0m Trial 27 pruned. \u001b[0m\n",
      "\u001b[32m[IRSPACK:I 2022-06-22 23:46:43,505]\u001b[0m \u001b[34mTrial 28:\u001b[0m\n",
      "\u001b[32m[IRSPACK:I 2022-06-22 23:46:43,506]\u001b[0m \u001b[34mparameter = {'alpha0': 0.04812585803239472, 'reg': 0.09215082688708433, 'n_components': 192}\u001b[0m\n"
     ]
    },
    {
     "data": {
      "text/html": [
       "\n",
       "<style>\n",
       "    /* Turns off some styling */\n",
       "    progress {\n",
       "        /* gets rid of default border in Firefox and Opera. */\n",
       "        border: none;\n",
       "        /* Needs to be in here for Safari polyfill so background images work as expected. */\n",
       "        background-size: auto;\n",
       "    }\n",
       "    .progress-bar-interrupted, .progress-bar-interrupted::-webkit-progress-bar {\n",
       "        background: #F44336;\n",
       "    }\n",
       "</style>\n"
      ],
      "text/plain": [
       "<IPython.core.display.HTML object>"
      ]
     },
     "metadata": {},
     "output_type": "display_data"
    },
    {
     "data": {
      "text/html": [
       "\n",
       "    <div>\n",
       "      <progress value='0' class='' max='16' style='width:300px; height:20px; vertical-align: middle;'></progress>\n",
       "      0.00% [0/16 00:00<00:00]\n",
       "    </div>\n",
       "    "
      ],
      "text/plain": [
       "<IPython.core.display.HTML object>"
      ]
     },
     "metadata": {},
     "output_type": "display_data"
    },
    {
     "name": "stderr",
     "output_type": "stream",
     "text": [
      "\u001b[32m[I 2022-06-22 23:46:43,803]\u001b[0m Trial 28 pruned. \u001b[0m\n",
      "\u001b[32m[IRSPACK:I 2022-06-22 23:46:43,811]\u001b[0m \u001b[34mTrial 29:\u001b[0m\n",
      "\u001b[32m[IRSPACK:I 2022-06-22 23:46:43,812]\u001b[0m \u001b[34mparameter = {'alpha0': 0.10448793163221905, 'reg': 0.0078420925677187, 'n_components': 192}\u001b[0m\n"
     ]
    },
    {
     "data": {
      "text/html": [
       "\n",
       "<style>\n",
       "    /* Turns off some styling */\n",
       "    progress {\n",
       "        /* gets rid of default border in Firefox and Opera. */\n",
       "        border: none;\n",
       "        /* Needs to be in here for Safari polyfill so background images work as expected. */\n",
       "        background-size: auto;\n",
       "    }\n",
       "    .progress-bar-interrupted, .progress-bar-interrupted::-webkit-progress-bar {\n",
       "        background: #F44336;\n",
       "    }\n",
       "</style>\n"
      ],
      "text/plain": [
       "<IPython.core.display.HTML object>"
      ]
     },
     "metadata": {},
     "output_type": "display_data"
    },
    {
     "data": {
      "text/html": [
       "\n",
       "    <div>\n",
       "      <progress value='8' class='' max='16' style='width:300px; height:20px; vertical-align: middle;'></progress>\n",
       "      50.00% [8/16 00:01<00:01 ndcg@10=0.4553945469662659]\n",
       "    </div>\n",
       "    "
      ],
      "text/plain": [
       "<IPython.core.display.HTML object>"
      ]
     },
     "metadata": {},
     "output_type": "display_data"
    },
    {
     "name": "stderr",
     "output_type": "stream",
     "text": [
      "\u001b[32m[IRSPACK:I 2022-06-22 23:46:45,922]\u001b[0m \u001b[34mConfig 29 obtained the following scores: {'appeared_item': 2686.0, 'entropy': 7.3969804766832965, 'gini_index': 0.6692171877905396, 'hit': 0.7486754966887417, 'map': 0.36671383895721643, 'n_items': 3704.0, 'ndcg': 0.45715350596349286, 'precision': 0.07486754966887418, 'recall': 0.7486754966887417, 'total_user': 6040.0, 'valid_user': 6040.0} within 2.119003 seconds.\u001b[0m\n",
      "\u001b[32m[I 2022-06-22 23:46:45,924]\u001b[0m Trial 29 finished with value: -0.45715350596349286 and parameters: {'alpha0': 0.10448793163221905, 'reg': 0.0078420925677187}. Best is trial 29 with value: -0.45715350596349286.\u001b[0m\n",
      "\u001b[32m[IRSPACK:I 2022-06-22 23:46:45,933]\u001b[0m \u001b[34mTrial 30:\u001b[0m\n",
      "\u001b[32m[IRSPACK:I 2022-06-22 23:46:45,934]\u001b[0m \u001b[34mparameter = {'alpha0': 0.06550696205925911, 'reg': 0.008018740558286335, 'n_components': 192}\u001b[0m\n"
     ]
    },
    {
     "data": {
      "text/html": [
       "\n",
       "<style>\n",
       "    /* Turns off some styling */\n",
       "    progress {\n",
       "        /* gets rid of default border in Firefox and Opera. */\n",
       "        border: none;\n",
       "        /* Needs to be in here for Safari polyfill so background images work as expected. */\n",
       "        background-size: auto;\n",
       "    }\n",
       "    .progress-bar-interrupted, .progress-bar-interrupted::-webkit-progress-bar {\n",
       "        background: #F44336;\n",
       "    }\n",
       "</style>\n"
      ],
      "text/plain": [
       "<IPython.core.display.HTML object>"
      ]
     },
     "metadata": {},
     "output_type": "display_data"
    },
    {
     "data": {
      "text/html": [
       "\n",
       "    <div>\n",
       "      <progress value='8' class='' max='16' style='width:300px; height:20px; vertical-align: middle;'></progress>\n",
       "      50.00% [8/16 00:01<00:01 ndcg@10=0.4511337113839176]\n",
       "    </div>\n",
       "    "
      ],
      "text/plain": [
       "<IPython.core.display.HTML object>"
      ]
     },
     "metadata": {},
     "output_type": "display_data"
    },
    {
     "name": "stderr",
     "output_type": "stream",
     "text": [
      "\u001b[32m[IRSPACK:I 2022-06-22 23:46:48,058]\u001b[0m \u001b[34mConfig 30 obtained the following scores: {'appeared_item': 2737.0, 'entropy': 7.388223745466111, 'gini_index': 0.6727386448156996, 'hit': 0.741225165562914, 'map': 0.36230158730158746, 'n_items': 3704.0, 'ndcg': 0.45201342424819124, 'precision': 0.07412251655629139, 'recall': 0.741225165562914, 'total_user': 6040.0, 'valid_user': 6040.0} within 2.133076 seconds.\u001b[0m\n",
      "\u001b[32m[I 2022-06-22 23:46:48,059]\u001b[0m Trial 30 finished with value: -0.45201342424819124 and parameters: {'alpha0': 0.06550696205925911, 'reg': 0.008018740558286335}. Best is trial 29 with value: -0.45715350596349286.\u001b[0m\n",
      "\u001b[32m[IRSPACK:I 2022-06-22 23:46:48,068]\u001b[0m \u001b[34mTrial 31:\u001b[0m\n",
      "\u001b[32m[IRSPACK:I 2022-06-22 23:46:48,069]\u001b[0m \u001b[34mparameter = {'alpha0': 0.11161354265163098, 'reg': 0.002921810545550655, 'n_components': 192}\u001b[0m\n"
     ]
    },
    {
     "data": {
      "text/html": [
       "\n",
       "<style>\n",
       "    /* Turns off some styling */\n",
       "    progress {\n",
       "        /* gets rid of default border in Firefox and Opera. */\n",
       "        border: none;\n",
       "        /* Needs to be in here for Safari polyfill so background images work as expected. */\n",
       "        background-size: auto;\n",
       "    }\n",
       "    .progress-bar-interrupted, .progress-bar-interrupted::-webkit-progress-bar {\n",
       "        background: #F44336;\n",
       "    }\n",
       "</style>\n"
      ],
      "text/plain": [
       "<IPython.core.display.HTML object>"
      ]
     },
     "metadata": {},
     "output_type": "display_data"
    },
    {
     "data": {
      "text/html": [
       "\n",
       "    <div>\n",
       "      <progress value='3' class='' max='16' style='width:300px; height:20px; vertical-align: middle;'></progress>\n",
       "      18.75% [3/16 00:00<00:02 ndcg@10=0.4335320837398132]\n",
       "    </div>\n",
       "    "
      ],
      "text/plain": [
       "<IPython.core.display.HTML object>"
      ]
     },
     "metadata": {},
     "output_type": "display_data"
    },
    {
     "name": "stderr",
     "output_type": "stream",
     "text": [
      "\u001b[32m[I 2022-06-22 23:46:48,979]\u001b[0m Trial 31 pruned. \u001b[0m\n",
      "\u001b[32m[IRSPACK:I 2022-06-22 23:46:48,988]\u001b[0m \u001b[34mTrial 32:\u001b[0m\n",
      "\u001b[32m[IRSPACK:I 2022-06-22 23:46:48,988]\u001b[0m \u001b[34mparameter = {'alpha0': 0.1815237716363487, 'reg': 0.005541874501225793, 'n_components': 192}\u001b[0m\n"
     ]
    },
    {
     "data": {
      "text/html": [
       "\n",
       "<style>\n",
       "    /* Turns off some styling */\n",
       "    progress {\n",
       "        /* gets rid of default border in Firefox and Opera. */\n",
       "        border: none;\n",
       "        /* Needs to be in here for Safari polyfill so background images work as expected. */\n",
       "        background-size: auto;\n",
       "    }\n",
       "    .progress-bar-interrupted, .progress-bar-interrupted::-webkit-progress-bar {\n",
       "        background: #F44336;\n",
       "    }\n",
       "</style>\n"
      ],
      "text/plain": [
       "<IPython.core.display.HTML object>"
      ]
     },
     "metadata": {},
     "output_type": "display_data"
    },
    {
     "data": {
      "text/html": [
       "\n",
       "    <div>\n",
       "      <progress value='0' class='' max='16' style='width:300px; height:20px; vertical-align: middle;'></progress>\n",
       "      0.00% [0/16 00:00<00:00]\n",
       "    </div>\n",
       "    "
      ],
      "text/plain": [
       "<IPython.core.display.HTML object>"
      ]
     },
     "metadata": {},
     "output_type": "display_data"
    },
    {
     "name": "stderr",
     "output_type": "stream",
     "text": [
      "\u001b[32m[I 2022-06-22 23:46:49,266]\u001b[0m Trial 32 pruned. \u001b[0m\n",
      "\u001b[32m[IRSPACK:I 2022-06-22 23:46:49,275]\u001b[0m \u001b[34mTrial 33:\u001b[0m\n",
      "\u001b[32m[IRSPACK:I 2022-06-22 23:46:49,275]\u001b[0m \u001b[34mparameter = {'alpha0': 0.09433547150366324, 'reg': 0.023452818918026867, 'n_components': 192}\u001b[0m\n"
     ]
    },
    {
     "data": {
      "text/html": [
       "\n",
       "<style>\n",
       "    /* Turns off some styling */\n",
       "    progress {\n",
       "        /* gets rid of default border in Firefox and Opera. */\n",
       "        border: none;\n",
       "        /* Needs to be in here for Safari polyfill so background images work as expected. */\n",
       "        background-size: auto;\n",
       "    }\n",
       "    .progress-bar-interrupted, .progress-bar-interrupted::-webkit-progress-bar {\n",
       "        background: #F44336;\n",
       "    }\n",
       "</style>\n"
      ],
      "text/plain": [
       "<IPython.core.display.HTML object>"
      ]
     },
     "metadata": {},
     "output_type": "display_data"
    },
    {
     "data": {
      "text/html": [
       "\n",
       "    <div>\n",
       "      <progress value='0' class='' max='16' style='width:300px; height:20px; vertical-align: middle;'></progress>\n",
       "      0.00% [0/16 00:00<00:00]\n",
       "    </div>\n",
       "    "
      ],
      "text/plain": [
       "<IPython.core.display.HTML object>"
      ]
     },
     "metadata": {},
     "output_type": "display_data"
    },
    {
     "name": "stderr",
     "output_type": "stream",
     "text": [
      "\u001b[32m[I 2022-06-22 23:46:49,551]\u001b[0m Trial 33 pruned. \u001b[0m\n",
      "\u001b[32m[IRSPACK:I 2022-06-22 23:46:49,560]\u001b[0m \u001b[34mTrial 34:\u001b[0m\n",
      "\u001b[32m[IRSPACK:I 2022-06-22 23:46:49,561]\u001b[0m \u001b[34mparameter = {'alpha0': 0.025909271245252625, 'reg': 0.009492148252279448, 'n_components': 192}\u001b[0m\n"
     ]
    },
    {
     "data": {
      "text/html": [
       "\n",
       "<style>\n",
       "    /* Turns off some styling */\n",
       "    progress {\n",
       "        /* gets rid of default border in Firefox and Opera. */\n",
       "        border: none;\n",
       "        /* Needs to be in here for Safari polyfill so background images work as expected. */\n",
       "        background-size: auto;\n",
       "    }\n",
       "    .progress-bar-interrupted, .progress-bar-interrupted::-webkit-progress-bar {\n",
       "        background: #F44336;\n",
       "    }\n",
       "</style>\n"
      ],
      "text/plain": [
       "<IPython.core.display.HTML object>"
      ]
     },
     "metadata": {},
     "output_type": "display_data"
    },
    {
     "data": {
      "text/html": [
       "\n",
       "    <div>\n",
       "      <progress value='4' class='' max='16' style='width:300px; height:20px; vertical-align: middle;'></progress>\n",
       "      25.00% [4/16 00:00<00:02 ndcg@10=0.438230384950353]\n",
       "    </div>\n",
       "    "
      ],
      "text/plain": [
       "<IPython.core.display.HTML object>"
      ]
     },
     "metadata": {},
     "output_type": "display_data"
    },
    {
     "name": "stderr",
     "output_type": "stream",
     "text": [
      "\u001b[32m[I 2022-06-22 23:46:50,696]\u001b[0m Trial 34 pruned. \u001b[0m\n",
      "\u001b[32m[IRSPACK:I 2022-06-22 23:46:50,705]\u001b[0m \u001b[34mTrial 35:\u001b[0m\n",
      "\u001b[32m[IRSPACK:I 2022-06-22 23:46:50,705]\u001b[0m \u001b[34mparameter = {'alpha0': 0.6613351951462518, 'reg': 0.003978156749885238, 'n_components': 192}\u001b[0m\n"
     ]
    },
    {
     "data": {
      "text/html": [
       "\n",
       "<style>\n",
       "    /* Turns off some styling */\n",
       "    progress {\n",
       "        /* gets rid of default border in Firefox and Opera. */\n",
       "        border: none;\n",
       "        /* Needs to be in here for Safari polyfill so background images work as expected. */\n",
       "        background-size: auto;\n",
       "    }\n",
       "    .progress-bar-interrupted, .progress-bar-interrupted::-webkit-progress-bar {\n",
       "        background: #F44336;\n",
       "    }\n",
       "</style>\n"
      ],
      "text/plain": [
       "<IPython.core.display.HTML object>"
      ]
     },
     "metadata": {},
     "output_type": "display_data"
    },
    {
     "data": {
      "text/html": [
       "\n",
       "    <div>\n",
       "      <progress value='0' class='' max='16' style='width:300px; height:20px; vertical-align: middle;'></progress>\n",
       "      0.00% [0/16 00:00<00:00]\n",
       "    </div>\n",
       "    "
      ],
      "text/plain": [
       "<IPython.core.display.HTML object>"
      ]
     },
     "metadata": {},
     "output_type": "display_data"
    },
    {
     "name": "stderr",
     "output_type": "stream",
     "text": [
      "\u001b[32m[I 2022-06-22 23:46:50,988]\u001b[0m Trial 35 pruned. \u001b[0m\n",
      "\u001b[32m[IRSPACK:I 2022-06-22 23:46:50,997]\u001b[0m \u001b[34mTrial 36:\u001b[0m\n",
      "\u001b[32m[IRSPACK:I 2022-06-22 23:46:50,998]\u001b[0m \u001b[34mparameter = {'alpha0': 0.11884551336807544, 'reg': 0.0019010987778407956, 'n_components': 192}\u001b[0m\n"
     ]
    },
    {
     "data": {
      "text/html": [
       "\n",
       "<style>\n",
       "    /* Turns off some styling */\n",
       "    progress {\n",
       "        /* gets rid of default border in Firefox and Opera. */\n",
       "        border: none;\n",
       "        /* Needs to be in here for Safari polyfill so background images work as expected. */\n",
       "        background-size: auto;\n",
       "    }\n",
       "    .progress-bar-interrupted, .progress-bar-interrupted::-webkit-progress-bar {\n",
       "        background: #F44336;\n",
       "    }\n",
       "</style>\n"
      ],
      "text/plain": [
       "<IPython.core.display.HTML object>"
      ]
     },
     "metadata": {},
     "output_type": "display_data"
    },
    {
     "data": {
      "text/html": [
       "\n",
       "    <div>\n",
       "      <progress value='2' class='' max='16' style='width:300px; height:20px; vertical-align: middle;'></progress>\n",
       "      12.50% [2/16 00:00<00:03 ndcg@10=0.4226213186664696]\n",
       "    </div>\n",
       "    "
      ],
      "text/plain": [
       "<IPython.core.display.HTML object>"
      ]
     },
     "metadata": {},
     "output_type": "display_data"
    },
    {
     "name": "stderr",
     "output_type": "stream",
     "text": [
      "\u001b[32m[I 2022-06-22 23:46:51,701]\u001b[0m Trial 36 pruned. \u001b[0m\n",
      "\u001b[32m[IRSPACK:I 2022-06-22 23:46:51,710]\u001b[0m \u001b[34mTrial 37:\u001b[0m\n",
      "\u001b[32m[IRSPACK:I 2022-06-22 23:46:51,710]\u001b[0m \u001b[34mparameter = {'alpha0': 0.07794758005102936, 'reg': 0.014163842943737471, 'n_components': 192}\u001b[0m\n"
     ]
    },
    {
     "data": {
      "text/html": [
       "\n",
       "<style>\n",
       "    /* Turns off some styling */\n",
       "    progress {\n",
       "        /* gets rid of default border in Firefox and Opera. */\n",
       "        border: none;\n",
       "        /* Needs to be in here for Safari polyfill so background images work as expected. */\n",
       "        background-size: auto;\n",
       "    }\n",
       "    .progress-bar-interrupted, .progress-bar-interrupted::-webkit-progress-bar {\n",
       "        background: #F44336;\n",
       "    }\n",
       "</style>\n"
      ],
      "text/plain": [
       "<IPython.core.display.HTML object>"
      ]
     },
     "metadata": {},
     "output_type": "display_data"
    },
    {
     "data": {
      "text/html": [
       "\n",
       "    <div>\n",
       "      <progress value='0' class='' max='16' style='width:300px; height:20px; vertical-align: middle;'></progress>\n",
       "      0.00% [0/16 00:00<00:00]\n",
       "    </div>\n",
       "    "
      ],
      "text/plain": [
       "<IPython.core.display.HTML object>"
      ]
     },
     "metadata": {},
     "output_type": "display_data"
    },
    {
     "name": "stderr",
     "output_type": "stream",
     "text": [
      "\u001b[32m[I 2022-06-22 23:46:51,982]\u001b[0m Trial 37 pruned. \u001b[0m\n",
      "\u001b[32m[IRSPACK:I 2022-06-22 23:46:51,990]\u001b[0m \u001b[34mTrial 38:\u001b[0m\n",
      "\u001b[32m[IRSPACK:I 2022-06-22 23:46:51,991]\u001b[0m \u001b[34mparameter = {'alpha0': 0.04587692461736193, 'reg': 0.007922630332602817, 'n_components': 192}\u001b[0m\n"
     ]
    },
    {
     "data": {
      "text/html": [
       "\n",
       "<style>\n",
       "    /* Turns off some styling */\n",
       "    progress {\n",
       "        /* gets rid of default border in Firefox and Opera. */\n",
       "        border: none;\n",
       "        /* Needs to be in here for Safari polyfill so background images work as expected. */\n",
       "        background-size: auto;\n",
       "    }\n",
       "    .progress-bar-interrupted, .progress-bar-interrupted::-webkit-progress-bar {\n",
       "        background: #F44336;\n",
       "    }\n",
       "</style>\n"
      ],
      "text/plain": [
       "<IPython.core.display.HTML object>"
      ]
     },
     "metadata": {},
     "output_type": "display_data"
    },
    {
     "data": {
      "text/html": [
       "\n",
       "    <div>\n",
       "      <progress value='8' class='' max='16' style='width:300px; height:20px; vertical-align: middle;'></progress>\n",
       "      50.00% [8/16 00:01<00:01 ndcg@10=0.44716793269959054]\n",
       "    </div>\n",
       "    "
      ],
      "text/plain": [
       "<IPython.core.display.HTML object>"
      ]
     },
     "metadata": {},
     "output_type": "display_data"
    },
    {
     "name": "stderr",
     "output_type": "stream",
     "text": [
      "\u001b[32m[IRSPACK:I 2022-06-22 23:46:54,098]\u001b[0m \u001b[34mConfig 38 obtained the following scores: {'appeared_item': 2765.0, 'entropy': 7.373546757550214, 'gini_index': 0.6780582831519174, 'hit': 0.7379139072847682, 'map': 0.35807349153789547, 'n_items': 3704.0, 'ndcg': 0.44793374267887937, 'precision': 0.0737913907284768, 'recall': 0.7379139072847682, 'total_user': 6040.0, 'valid_user': 6040.0} within 2.116132 seconds.\u001b[0m\n",
      "\u001b[32m[I 2022-06-22 23:46:54,100]\u001b[0m Trial 38 finished with value: -0.44793374267887937 and parameters: {'alpha0': 0.04587692461736193, 'reg': 0.007922630332602817}. Best is trial 29 with value: -0.45715350596349286.\u001b[0m\n",
      "\u001b[32m[IRSPACK:I 2022-06-22 23:46:54,109]\u001b[0m \u001b[34mTrial 39:\u001b[0m\n",
      "\u001b[32m[IRSPACK:I 2022-06-22 23:46:54,109]\u001b[0m \u001b[34mparameter = {'alpha0': 0.3323156467701052, 'reg': 0.0028721481496044128, 'n_components': 192}\u001b[0m\n"
     ]
    },
    {
     "data": {
      "text/html": [
       "\n",
       "<style>\n",
       "    /* Turns off some styling */\n",
       "    progress {\n",
       "        /* gets rid of default border in Firefox and Opera. */\n",
       "        border: none;\n",
       "        /* Needs to be in here for Safari polyfill so background images work as expected. */\n",
       "        background-size: auto;\n",
       "    }\n",
       "    .progress-bar-interrupted, .progress-bar-interrupted::-webkit-progress-bar {\n",
       "        background: #F44336;\n",
       "    }\n",
       "</style>\n"
      ],
      "text/plain": [
       "<IPython.core.display.HTML object>"
      ]
     },
     "metadata": {},
     "output_type": "display_data"
    },
    {
     "data": {
      "text/html": [
       "\n",
       "    <div>\n",
       "      <progress value='5' class='' max='16' style='width:300px; height:20px; vertical-align: middle;'></progress>\n",
       "      31.25% [5/16 00:01<00:02 ndcg@10=0.4439433181205525]\n",
       "    </div>\n",
       "    "
      ],
      "text/plain": [
       "<IPython.core.display.HTML object>"
      ]
     },
     "metadata": {},
     "output_type": "display_data"
    },
    {
     "name": "stderr",
     "output_type": "stream",
     "text": [
      "\u001b[32m[IRSPACK:I 2022-06-22 23:46:55,595]\u001b[0m \u001b[34mConfig 39 obtained the following scores: {'appeared_item': 2624.0, 'entropy': 7.4281180751395715, 'gini_index': 0.6569347617753494, 'hit': 0.7299668874172185, 'map': 0.3592799327236413, 'n_items': 3704.0, 'ndcg': 0.44715632826157664, 'precision': 0.07299668874172188, 'recall': 0.7299668874172185, 'total_user': 6040.0, 'valid_user': 6040.0} within 1.494015 seconds.\u001b[0m\n",
      "\u001b[32m[I 2022-06-22 23:46:55,596]\u001b[0m Trial 39 finished with value: -0.44715632826157664 and parameters: {'alpha0': 0.3323156467701052, 'reg': 0.0028721481496044128}. Best is trial 29 with value: -0.45715350596349286.\u001b[0m\n"
     ]
    }
   ],
   "source": [
    "validation_evaluator = Evaluator(X_tv_gt, per_user_recommendable_items=X_tv_recommendable, cutoff=10)\n",
    "best_parameter, validation_recoder = IALSRecommender.tune(\n",
    "    X_tt, validation_evaluator, fixed_params=dict(n_components=192),\n",
    "    n_trials=40, random_seed=0, prunning_n_startup_trials=20\n",
    ")"
   ]
  },
  {
   "cell_type": "code",
   "execution_count": 8,
   "id": "00f5e431",
   "metadata": {},
   "outputs": [],
   "source": [
    "X_train_all, user_ids, _ = df_to_sparse(train, USER, ITEM, item_ids=item_list)\n",
    "X_test_gt, _, __ = df_to_sparse(test[test[\"positive\"]], USER, ITEM, user_ids=user_ids, item_ids=item_list)\n",
    "X_test_recommendable, _, __ = df_to_sparse(test, USER, ITEM, user_ids=user_ids, item_ids=item_list)"
   ]
  },
  {
   "cell_type": "markdown",
   "id": "5452f612-1cd8-40da-9c24-0bb098c01e10",
   "metadata": {},
   "source": [
    "NDCG@10/HIT@10 is similar to that reported in the reference."
   ]
  },
  {
   "cell_type": "code",
   "execution_count": 10,
   "id": "031e02cf",
   "metadata": {},
   "outputs": [
    {
     "data": {
      "text/html": [
       "\n",
       "<style>\n",
       "    /* Turns off some styling */\n",
       "    progress {\n",
       "        /* gets rid of default border in Firefox and Opera. */\n",
       "        border: none;\n",
       "        /* Needs to be in here for Safari polyfill so background images work as expected. */\n",
       "        background-size: auto;\n",
       "    }\n",
       "    .progress-bar-interrupted, .progress-bar-interrupted::-webkit-progress-bar {\n",
       "        background: #F44336;\n",
       "    }\n",
       "</style>\n"
      ],
      "text/plain": [
       "<IPython.core.display.HTML object>"
      ]
     },
     "metadata": {},
     "output_type": "display_data"
    },
    {
     "data": {
      "text/html": [
       "\n",
       "    <div>\n",
       "      <progress value='6' class='' max='6' style='width:300px; height:20px; vertical-align: middle;'></progress>\n",
       "      100.00% [6/6 00:00<00:00]\n",
       "    </div>\n",
       "    "
      ],
      "text/plain": [
       "<IPython.core.display.HTML object>"
      ]
     },
     "metadata": {},
     "output_type": "display_data"
    },
    {
     "data": {
      "text/plain": [
       "{'appeared_item': 2714.0,\n",
       " 'entropy': 7.405280488124141,\n",
       " 'gini_index': 0.6666785842293266,\n",
       " 'hit': 0.7310367671414376,\n",
       " 'map': 0.36564331982102766,\n",
       " 'n_items': 3704.0,\n",
       " 'ndcg': 0.45213014176363536,\n",
       " 'precision': 0.07310367671414376,\n",
       " 'recall': 0.7310367671414376,\n",
       " 'total_user': 6040.0,\n",
       " 'valid_user': 6038.0}"
      ]
     },
     "execution_count": 10,
     "metadata": {},
     "output_type": "execute_result"
    }
   ],
   "source": [
    "Evaluator(X_test_gt, per_user_recommendable_items=X_test_recommendable, cutoff=10).get_score(\n",
    "    IALSRecommender(X_train_all, **best_parameter).learn()\n",
    ")"
   ]
  },
  {
   "cell_type": "code",
   "execution_count": null,
   "id": "de20957a-70cd-4914-9402-463bde378920",
   "metadata": {},
   "outputs": [],
   "source": []
  }
 ],
 "metadata": {
  "interpreter": {
   "hash": "2c8d963a96d0919c97b2debbb8f097e0c884c04e5d1a6aef0590fcc7fac9e98a"
  },
  "kernelspec": {
   "display_name": "Python 3 (ipykernel)",
   "language": "python",
   "name": "python3"
  },
  "language_info": {
   "codemirror_mode": {
    "name": "ipython",
    "version": 3
   },
   "file_extension": ".py",
   "mimetype": "text/x-python",
   "name": "python",
   "nbconvert_exporter": "python",
   "pygments_lexer": "ipython3",
   "version": "3.10.0"
  }
 },
 "nbformat": 4,
 "nbformat_minor": 5
}
